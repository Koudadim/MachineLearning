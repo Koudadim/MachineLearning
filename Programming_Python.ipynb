{
 "cells": [
  {
   "cell_type": "markdown",
   "id": "34378c1d",
   "metadata": {},
   "source": [
    "## Chapter 1"
   ]
  },
  {
   "cell_type": "markdown",
   "id": "6b0e80b8",
   "metadata": {},
   "source": [
    "### Three steps in Python programming process "
   ]
  },
  {
   "cell_type": "markdown",
   "id": "f1c29c05",
   "metadata": {},
   "source": [
    "1. Sequential steps"
   ]
  },
  {
   "cell_type": "code",
   "execution_count": 42,
   "id": "8868696c",
   "metadata": {},
   "outputs": [
    {
     "name": "stdout",
     "output_type": "stream",
     "text": [
      "2\n",
      "4\n"
     ]
    }
   ],
   "source": [
    "x=2\n",
    "print(x)\n",
    "y=x+2\n",
    "print(y)"
   ]
  },
  {
   "cell_type": "markdown",
   "id": "43647122",
   "metadata": {},
   "source": [
    "2. Conditionnal steps"
   ]
  },
  {
   "cell_type": "code",
   "execution_count": 43,
   "id": "72cac738",
   "metadata": {},
   "outputs": [
    {
     "name": "stdout",
     "output_type": "stream",
     "text": [
      "Medium\n",
      "Finis\n"
     ]
    }
   ],
   "source": [
    "x=15\n",
    "if x < 10 :\n",
    "    print(\"Smaller\")\n",
    "elif x > 20 :\n",
    "    print(\"Bigger\")\n",
    "else:\n",
    "    print(\"Medium\")\n",
    "print(\"Finis\")"
   ]
  },
  {
   "cell_type": "markdown",
   "id": "10ad9f7b",
   "metadata": {},
   "source": [
    "3. Repeated steps"
   ]
  },
  {
   "cell_type": "code",
   "execution_count": 44,
   "id": "6fd54d32",
   "metadata": {},
   "outputs": [
    {
     "name": "stdout",
     "output_type": "stream",
     "text": [
      "20\n",
      "19\n",
      "18\n",
      "17\n",
      "16\n",
      "15\n",
      "14\n",
      "13\n",
      "12\n",
      "11\n",
      "blastoff\n"
     ]
    }
   ],
   "source": [
    "n=20\n",
    "while n > 10:\n",
    "    print(n)\n",
    "    n=n-1\n",
    "print('blastoff')"
   ]
  },
  {
   "cell_type": "markdown",
   "id": "4950ab93",
   "metadata": {},
   "source": [
    "All those step can be combined"
   ]
  },
  {
   "cell_type": "markdown",
   "id": "59285be4",
   "metadata": {},
   "source": [
    "## Chapter 2 : variables, expressions and statements"
   ]
  },
  {
   "cell_type": "markdown",
   "id": "6a010a22",
   "metadata": {},
   "source": [
    "1. Constants"
   ]
  },
  {
   "cell_type": "code",
   "execution_count": 45,
   "id": "79167ddd",
   "metadata": {},
   "outputs": [
    {
     "name": "stdout",
     "output_type": "stream",
     "text": [
      "12\n",
      "Boss\n"
     ]
    }
   ],
   "source": [
    "print(12)\n",
    "print(\"Boss\")"
   ]
  },
  {
   "cell_type": "markdown",
   "id": "ebd198d1",
   "metadata": {},
   "source": [
    "2. Variables"
   ]
  },
  {
   "cell_type": "markdown",
   "id": "3da26d5a",
   "metadata": {},
   "source": [
    "A variable name / identifier cannot be a reserved word"
   ]
  },
  {
   "cell_type": "code",
   "execution_count": 46,
   "id": "4807fe4a",
   "metadata": {},
   "outputs": [
    {
     "name": "stdout",
     "output_type": "stream",
     "text": [
      "405\n",
      "417.5\n"
     ]
    }
   ],
   "source": [
    "x=45*9\n",
    "print(x)\n",
    "y=12.5\n",
    "x=x+y\n",
    "print(x)\n"
   ]
  },
  {
   "cell_type": "markdown",
   "id": "a538ecb6",
   "metadata": {},
   "source": [
    "In programming, it is better using Mnemonic (memory aid) variables names in order to make the code meaningful"
   ]
  },
  {
   "cell_type": "markdown",
   "id": "b7b0f6b1",
   "metadata": {},
   "source": [
    "3. Expression"
   ]
  },
  {
   "cell_type": "code",
   "execution_count": 47,
   "id": "d2583dbc",
   "metadata": {},
   "outputs": [
    {
     "name": "stdout",
     "output_type": "stream",
     "text": [
      "7 -24\n",
      "4\n",
      "331776\n"
     ]
    }
   ],
   "source": [
    "x=7\n",
    "y=2*9+(8-14)*x\n",
    "print(x, y)\n",
    "z=y%x # remainder\n",
    "print(z)\n",
    "p=y**z # power\n",
    "print(p)"
   ]
  },
  {
   "cell_type": "markdown",
   "id": "7d8660e5",
   "metadata": {},
   "source": [
    "Operators precedence rules:\n",
    "    1. Parenthesis\n",
    "    2. Power\n",
    "    3. Multiplication or division\n",
    "    4. Addiction or subtraction\n",
    "    5. Left to rignt"
   ]
  },
  {
   "cell_type": "markdown",
   "id": "49a866ca",
   "metadata": {},
   "source": [
    "4. Types of variables"
   ]
  },
  {
   "cell_type": "code",
   "execution_count": 48,
   "id": "60639116",
   "metadata": {},
   "outputs": [
    {
     "name": "stdout",
     "output_type": "stream",
     "text": [
      "3125\n",
      "Hello Baby\n"
     ]
    },
    {
     "data": {
      "text/plain": [
       "float"
      ]
     },
     "execution_count": 48,
     "metadata": {},
     "output_type": "execute_result"
    }
   ],
   "source": [
    "x=5**5 # number\n",
    "print(x)\n",
    "y='Hello' # string\n",
    "z='Baby'\n",
    "c=y+' '+z # Concatenation\n",
    "print(c) # print(x+z) impossible\n",
    "\n",
    "# Asking the type of a variable\n",
    "type(c)\n",
    "type('Oliver')\n",
    "type(7.8)"
   ]
  },
  {
   "cell_type": "markdown",
   "id": "23af4cbb",
   "metadata": {},
   "source": [
    "Type conversion"
   ]
  },
  {
   "cell_type": "code",
   "execution_count": 49,
   "id": "31fbc929",
   "metadata": {},
   "outputs": [
    {
     "name": "stdout",
     "output_type": "stream",
     "text": [
      "199.0\n",
      "i =  42\n",
      "j =  42.0\n",
      "l =  6\n",
      "a =  123 a1 = int(a) =  123\n",
      "type of a : <class 'str'> type of a1: <class 'int'>\n"
     ]
    }
   ],
   "source": [
    "print(float(99)+100)\n",
    "i=42\n",
    "print(\"i = \", i)\n",
    "type(i)\n",
    "j=float(i)\n",
    "print(\"j = \", j)\n",
    "type(j)\n",
    "k=6.5\n",
    "l=int(k)\n",
    "print('l = ', l)\n",
    "\n",
    "# String conversion\n",
    "\n",
    "a='123'\n",
    "a1= int(a)\n",
    "print('a = ', a, 'a1 = int(a) = ', a1)\n",
    "print('type of a :', type(a), 'type of a1:', type(a1))\n",
    "\n",
    "b= \"God is my Father\"\n",
    "# b1=int(b) Impossible conversion\n"
   ]
  },
  {
   "cell_type": "markdown",
   "id": "16233cc5",
   "metadata": {},
   "source": [
    "5. User input"
   ]
  },
  {
   "cell_type": "code",
   "execution_count": 50,
   "id": "6395b7ac",
   "metadata": {},
   "outputs": [
    {
     "name": "stdout",
     "output_type": "stream",
     "text": [
      "Who are you ? Oliver\n",
      "Oliver , Welcome\n"
     ]
    }
   ],
   "source": [
    "name = input('Who are you ? ')\n",
    "print(name, ', Welcome')"
   ]
  },
  {
   "cell_type": "markdown",
   "id": "19db3031",
   "metadata": {},
   "source": [
    "The input function returns a string. In order to use a value entered by the user as a numeric value, it must be converted."
   ]
  },
  {
   "cell_type": "code",
   "execution_count": 51,
   "id": "8b85f111",
   "metadata": {},
   "outputs": [
    {
     "name": "stdout",
     "output_type": "stream",
     "text": [
      "Calcul d'un salaire hebdomadaire\n",
      "\t Veuillez entrer le nombre d'heures de travail par jour : 15\n",
      "\t Veuillez entrer le nombre de jours de travail par semaine :6\n",
      "\t Combien touchez-vous par heures de travail (en dirhams) ? 75.5\n",
      "Votre salaire hebdomaire est :  6795.0 Dirhams\n"
     ]
    }
   ],
   "source": [
    "print('Calcul d\\'un salaire hebdomadaire')\n",
    "nb_hours_day = input('\\t Veuillez entrer le nombre d\\'heures de travail par jour : ')\n",
    "nb_days_week = input('\\t Veuillez entrer le nombre de jours de travail par semaine :')\n",
    "x = input(\"\\t Combien touchez-vous par heures de travail (en dirhams) ? \")\n",
    "print(\"Votre salaire hebdomaire est : \", float(x) * float(nb_hours_day) * float(nb_days_week), 'Dirhams')"
   ]
  },
  {
   "cell_type": "markdown",
   "id": "a85ff91f",
   "metadata": {},
   "source": [
    "6. Application: A programm that determine the most frequent word in a text"
   ]
  },
  {
   "cell_type": "code",
   "execution_count": 98,
   "id": "4f59e0b6",
   "metadata": {},
   "outputs": [
    {
     "name": "stdout",
     "output_type": "stream",
     "text": [
      "Enter the text: Dieu est miséricordieux. Je suis enfant de Dieu\n",
      "<_io.TextIOWrapper name='Dieu est miséricordieux. Je suis enfant de Dieu' mode='r' encoding='cp1252'> <class '_io.TextIOWrapper'>\n",
      "{}\n",
      "None None\n"
     ]
    }
   ],
   "source": [
    "# Get the name of the file and open it\n",
    "\n",
    "name= input('Enter the text: ')\n",
    "write = open(name, 'w')\n",
    "handle = open(name, 'r')\n",
    "print(handle, type(handle))\n",
    "\n",
    "# Count the words frequency\n",
    "\n",
    "counts = dict()\n",
    "for line in handle:\n",
    "    words = line.split()\n",
    "    print(words)\n",
    "    for word in words:\n",
    "        counts[word] = counts.get(word, 0)+1\n",
    "\n",
    "print(counts)\n",
    "# Find the most common word\n",
    "\n",
    "bigcount = None\n",
    "bigword = None\n",
    "for word, count in counts.items() : \n",
    "    if bigcount is None or count > bigcount:\n",
    "        bigword = word\n",
    "        bigcount = count\n",
    "    \n",
    "print(bigcount, bigword)\n"
   ]
  },
  {
   "cell_type": "markdown",
   "id": "ddc876a2",
   "metadata": {},
   "source": [
    "## Chapter 3 : Conditionnal execution "
   ]
  },
  {
   "cell_type": "markdown",
   "id": "a7c3c857",
   "metadata": {},
   "source": [
    "Exemple 1 :  Déterminantion des nombres premiers dans un intervalle donné"
   ]
  },
  {
   "cell_type": "code",
   "execution_count": 100,
   "id": "f86956aa",
   "metadata": {},
   "outputs": [
    {
     "name": "stdout",
     "output_type": "stream",
     "text": [
      "Saisie d'un intervalle\n",
      "Entrer la borne inférieure:1\n",
      "Entrer la borne supérieure:98\n",
      "Saisir un entier appartenant à l'intervalle [ 1.0   98.0 ]\n",
      "20\n",
      "20  n'est pas un nombre premier\n",
      "Tous les nombres premiers de l'intervalle saisi:\n",
      "[2, 3, 5, 7, 11, 13, 17, 19, 23, 29, 31, 37, 41, 43, 47, 53, 59, 61, 67, 71, 73, 79, 83, 89, 97]\n"
     ]
    }
   ],
   "source": [
    "print('Saisie d\\'un intervalle')\n",
    "a1 = input('Entrer la borne inférieure:')\n",
    "a2 = input('Entrer la borne supérieure:')\n",
    "a1 = float(a1)\n",
    "a2 = float(a2)\n",
    "\n",
    "while a2 < a1:\n",
    "    print('La borne supérieure est toujours supérieure à la borne inférieure.')\n",
    "    a2 = input('Entrer donc un nombre plus grand...')\n",
    "    a2 = float(a2)\n",
    "\n",
    "print(\"Saisir un entier appartenant à l\\'intervalle [\", a1,' ', a2, \"]\")\n",
    "\n",
    "a = input()\n",
    "a = int(a)\n",
    "while a < a1 or a > a2:\n",
    "    print('Entier incorrect!')\n",
    "    a = input('Entrer un entier inférieur à ', a2, \" et supérieur à \", a1)\n",
    "    a = int(a)\n",
    "\n",
    "a1 = int(a1)+1  # entier immédiatement > a1 saisi\n",
    "a2 = int(a2)  # entier immédiatement < a2 saisi\n",
    "\n",
    "if a <= 1:\n",
    "    print(a, ' n\\'est pas un nombre premier')\n",
    "\n",
    "n = 0 # Nombre de diviseurs de a compris strictement entre a1 et a\n",
    "\n",
    "for d in range(a1, a-1):\n",
    "    if d > 1 and a%d == 0:\n",
    "        n=n+1\n",
    "\n",
    "if n!=0:\n",
    "    print(a, ' n\\'est pas un nombre premier')\n",
    "else:\n",
    "    print(a, ' est un nombre premier')\n",
    "        \n",
    "print('Tous les nombres premiers de l\\'intervalle saisi:')  \n",
    "\n",
    "nb_premiers = []\n",
    "\n",
    "for N in range(a1, a2):\n",
    "    #if N <= 1:\n",
    "    #    print('Il n\\'y a pas de nombre premier dans cet intervalle')   \n",
    "    if N >= 2 :\n",
    "        n = 0 # Nombre de diviseurs de a compris strictement entre a1 et a\n",
    "        for d in range(a1, N-1):\n",
    "            if d > 1 and N%d == 0:\n",
    "                n = n+1\n",
    "        if n == 0:\n",
    "            nb_premiers.append(N)\n",
    "            \n",
    "print(nb_premiers)\n",
    "   \n",
    "    "
   ]
  },
  {
   "cell_type": "markdown",
   "id": "993d3b1f",
   "metadata": {},
   "source": [
    "Exemple 2 : Try / Except structures "
   ]
  },
  {
   "cell_type": "raw",
   "id": "ea73291c",
   "metadata": {},
   "source": [
    "try / except strucrure are used in dangerous parts of a code\n",
    "When try section is executed, except section is skipped.\n",
    "If the try section fails, except section is executed"
   ]
  },
  {
   "cell_type": "code",
   "execution_count": 102,
   "id": "cad91903",
   "metadata": {},
   "outputs": [
    {
     "name": "stdout",
     "output_type": "stream",
     "text": [
      "First :  -1\n",
      "Second :  123546\n"
     ]
    }
   ],
   "source": [
    "astr = 'Hello Bob'\n",
    "try:\n",
    "    istr = int(astr)\n",
    "except:\n",
    "    istr = -1\n",
    "\n",
    "print ('First : ', istr)\n",
    "\n",
    "astr = '123546'\n",
    "try:\n",
    "    istr = int(astr)\n",
    "except:\n",
    "    istr = 1\n",
    "print('Second : ', istr)"
   ]
  },
  {
   "cell_type": "code",
   "execution_count": 103,
   "id": "2210a1de",
   "metadata": {},
   "outputs": [
    {
     "name": "stdout",
     "output_type": "stream",
     "text": [
      "How are you doing ?\n",
      "Done :  -1\n"
     ]
    }
   ],
   "source": [
    "astr = 'Hello Bob'\n",
    "try:\n",
    "    print('How are you doing ?')\n",
    "    istr = int(astr)\n",
    "    print('Well I hope!...')\n",
    "except:\n",
    "    istr = -1\n",
    "\n",
    "print ('Done : ', istr)"
   ]
  },
  {
   "cell_type": "markdown",
   "id": "c6511830",
   "metadata": {},
   "source": [
    "## Chapter 4: Functions "
   ]
  },
  {
   "cell_type": "markdown",
   "id": "b1d75764",
   "metadata": {},
   "source": [
    "1. Built-in functions : int(), float(), max(), min(), ..."
   ]
  },
  {
   "cell_type": "markdown",
   "id": "5c91c6bf",
   "metadata": {},
   "source": [
    "2. Functions defined by the user"
   ]
  },
  {
   "cell_type": "raw",
   "id": "b008669f",
   "metadata": {},
   "source": [
    "A funcion that returns a value is called a fruitful function\n",
    "A funcion that does not return a value is called a void (non-fruitful) function"
   ]
  },
  {
   "cell_type": "code",
   "execution_count": 104,
   "id": "190c95ce",
   "metadata": {},
   "outputs": [
    {
     "name": "stdout",
     "output_type": "stream",
     "text": [
      "Entrer le nombre dont vous voulez déterminer la factorielle : 50\n",
      "50 ! =  608281864034267560872252163321295376887552831379210240000000000\n"
     ]
    }
   ],
   "source": [
    "def factorial(n):\n",
    "    fact = 1\n",
    "    if n < 0 or type(n) != int :\n",
    "        return (n, ' n\\'admet pas de factorielle. Car seuls les entiers naturels admettent des factorielles')        \n",
    "    elif n == 0 or n == 1 :\n",
    "        return fact\n",
    "    else :\n",
    "        for k in range (1,n):\n",
    "            fact = fact * k\n",
    "        return fact\n",
    " \n",
    "n = input('Entrer le nombre dont vous voulez déterminer la factorielle : ')\n",
    "n = int(n)\n",
    "print(n, '! = ', factorial(n))\n",
    "    \n",
    "        \n",
    "\n"
   ]
  },
  {
   "cell_type": "markdown",
   "id": "218112ca",
   "metadata": {},
   "source": [
    "## Chapter 5 :  Loops (repeated steps) and iteration "
   ]
  },
  {
   "cell_type": "raw",
   "id": "53bc765f",
   "metadata": {},
   "source": [
    "continue : a statement that ends the current iteration and jumps to the top of the loop and starts the next iteration\n",
    "break :  a statement that ends a loop under a certain condition."
   ]
  },
  {
   "cell_type": "code",
   "execution_count": 105,
   "id": "b687753b",
   "metadata": {},
   "outputs": [
    {
     "name": "stdout",
     "output_type": "stream",
     "text": [
      ">>> I'm grateful to God\n",
      "I'm grateful to God\n",
      ">>> #\n",
      ">>> done\n",
      "Done !\n"
     ]
    }
   ],
   "source": [
    "# This loop is an infinite loop without the break statement...\n",
    "\n",
    "while True:\n",
    "    line = input('>>> ')\n",
    "    if line[0 ] == '#':\n",
    "        continue\n",
    "    if line == 'done' : \n",
    "        break\n",
    "    print(line)\n",
    "print('Done !')\n",
    "    "
   ]
  },
  {
   "cell_type": "markdown",
   "id": "cbd674b3",
   "metadata": {},
   "source": [
    "The largest number, sum and average in a list"
   ]
  },
  {
   "cell_type": "code",
   "execution_count": 106,
   "id": "e67ccc69",
   "metadata": {},
   "outputs": [
    {
     "name": "stdout",
     "output_type": "stream",
     "text": [
      "1   12  <- vs ->  12\n",
      "2   25  <- vs ->  25\n",
      "3   25  <- vs ->  4\n",
      "4   25  <- vs ->  8\n",
      "5   79  <- vs ->  79\n",
      "6   79  <- vs ->  1\n",
      "7   124  <- vs ->  124\n",
      "8   124  <- vs ->  9\n",
      "9   124  <- vs ->  7\n",
      "10   124  <- vs ->  25.6\n",
      "11   125.99  <- vs ->  125.99\n",
      "12   126  <- vs ->  126\n",
      "13   126  <- vs ->  56\n",
      "The largest umber is :  126\n",
      "Sum of the elements in the list :  602.59\n",
      "Average of the elements in the list :  46.35307692307693\n"
     ]
    }
   ],
   "source": [
    "greater = None\n",
    "Sum = 0\n",
    "count = 0\n",
    "for n in [12, 25, 4, 8, 79, 1, 124, 9, 7, 25.6, 125.99, 126, 56] :\n",
    "    Sum = Sum + n\n",
    "    count = count + 1\n",
    "    if greater is None: # 'is' and 'is not' operators are used for non-type, boolean\n",
    "        greater = n\n",
    "    elif n > greater :\n",
    "        greater = n\n",
    "    print(count, ' ', greater,' <- vs -> ', n)\n",
    "print('The largest umber is : ', greater)\n",
    "print('Sum of the elements in the list : ',Sum)\n",
    "print('Average of the elements in the list : ',Sum/count)"
   ]
  },
  {
   "cell_type": "markdown",
   "id": "45f02744",
   "metadata": {},
   "source": [
    "## Chapter 6 : Strings "
   ]
  },
  {
   "cell_type": "markdown",
   "id": "e64faf62",
   "metadata": {},
   "source": [
    "Exemple 1 : Programme qui détermine le nombre de fois qu'une lettre est employée dans un texte"
   ]
  },
  {
   "cell_type": "code",
   "execution_count": 107,
   "id": "b91b16e9",
   "metadata": {},
   "outputs": [
    {
     "name": "stdout",
     "output_type": "stream",
     "text": [
      "Enter the text : Je suis dans la joie, une joie immense. A Dieu soit toute la gloire\n",
      "1 a 3\n",
      "2 b 0\n",
      "3 c 0\n",
      "4 d 1\n",
      "5 e 9\n",
      "6 f 0\n",
      "7 g 1\n",
      "8 h 0\n",
      "9 i 7\n",
      "10 j 2\n",
      "11 k 0\n",
      "12 l 3\n",
      "13 m 2\n",
      "14 n 3\n",
      "15 o 5\n",
      "16 p 0\n",
      "17 q 0\n",
      "18 r 1\n",
      "19 s 5\n",
      "20 t 3\n",
      "21 u 4\n",
      "22 v 0\n",
      "23 w 0\n",
      "24 x 0\n",
      "25 y 0\n",
      "26 z 0\n"
     ]
    }
   ],
   "source": [
    "def Text_letters(text):\n",
    "    letters = 'abcdefghijklmnopqrstuvwxyz'\n",
    "    letter_number = 0\n",
    "    for letter in letters:\n",
    "        letter_number = letter_number + 1\n",
    "        count_letter = 0\n",
    "        for text_letter in text :\n",
    "            if text_letter == letter:\n",
    "                count_letter =count_letter + 1\n",
    "        print(letter_number, letter, count_letter)\n",
    "\n",
    "text = input('Enter the text : ')\n",
    "Text_letters(text)"
   ]
  },
  {
   "cell_type": "markdown",
   "id": "0618333c",
   "metadata": {},
   "source": [
    "Exemple 2 : Slicing"
   ]
  },
  {
   "cell_type": "code",
   "execution_count": 108,
   "id": "1e2913df",
   "metadata": {},
   "outputs": [
    {
     "name": "stdout",
     "output_type": "stream",
     "text": [
      "banan\n",
      "na is a sweet fruit\n",
      "B is not found in the text : banana is a sweet fruit\n"
     ]
    },
    {
     "data": {
      "text/plain": [
       "True"
      ]
     },
     "execution_count": 108,
     "metadata": {},
     "output_type": "execute_result"
    }
   ],
   "source": [
    "text = 'banana is a sweet fruit'\n",
    "print(text[0:5])\n",
    "print(text[4:len(text)])\n",
    "\n",
    "# Using 'in' as a logical operator \n",
    "\n",
    "if 'B' in text :\n",
    "    print('B is found in the text :', text)\n",
    "else:\n",
    "    print('B is not found in the text :', text)\n",
    "    \n",
    "'nan' in text"
   ]
  },
  {
   "cell_type": "markdown",
   "id": "2069d02c",
   "metadata": {},
   "source": [
    "Exemple 3 : String comparison"
   ]
  },
  {
   "cell_type": "code",
   "execution_count": 109,
   "id": "b0b45972",
   "metadata": {},
   "outputs": [
    {
     "name": "stdout",
     "output_type": "stream",
     "text": [
      "This programme compares two words\n",
      "Enter the first word : Word\n",
      "Enter the second word : Good\n",
      "The words you entered are : Word , Good\n",
      "The word,  Good  comes before  Word\n"
     ]
    }
   ],
   "source": [
    "print('This programme compares two words')\n",
    "\n",
    "word1 = input('Enter the first word : ')\n",
    "word2 = input('Enter the second word : ')\n",
    "\n",
    "print('The words you entered are :', word1 +' , '+ word2)\n",
    "\n",
    "if word1 < word2 :\n",
    "    print('The word, ', word1, ' comes before ', word2)\n",
    "else:\n",
    "    print('The word, ', word2, ' comes before ', word1)"
   ]
  },
  {
   "cell_type": "markdown",
   "id": "25ee5c05",
   "metadata": {},
   "source": [
    "String library"
   ]
  },
  {
   "cell_type": "code",
   "execution_count": 110,
   "id": "0f5d46b3",
   "metadata": {},
   "outputs": [
    {
     "name": "stdout",
     "output_type": "stream",
     "text": [
      "Hello my dear SWEETHEART becomes after lower() function application : hello my dear sweetheart\n",
      "Hello my dear SWEETHEART becomes after upper() function application : HELLO MY DEAR SWEETHEART\n",
      "9\n",
      "Greetings !  my dear SWEETHEART\n",
      "Hxllo my dxar SWEETHEART\n",
      "God is good  \n",
      "    God is good\n",
      "God is good\n"
     ]
    },
    {
     "data": {
      "text/plain": [
       "True"
      ]
     },
     "execution_count": 110,
     "metadata": {},
     "output_type": "execute_result"
    }
   ],
   "source": [
    "greet = \"Hello my dear SWEETHEART\"\n",
    "\n",
    "print(greet, 'becomes after lower() function application :', greet.lower())\n",
    "print(greet, 'becomes after upper() function application :', greet.upper())\n",
    "\n",
    "# A buit-in fonction that return all the built-in methods applicable to the string object\n",
    "# dir(greet)  \n",
    "\n",
    "print(greet.find('dear')) # return the position of the first letter in a sequence of letters \n",
    "\n",
    "new = greet.replace('Hello', 'Greetings ! ') # Replce a sequences of wletters by a new one\n",
    "print(new)\n",
    "\n",
    "print(greet.replace('e', 'x'))\n",
    "\n",
    "# Stripping white space\n",
    "\n",
    "new = '    God is good  '\n",
    "print(new.lstrip()) # white space left\n",
    "print(new.rstrip()) # white space right\n",
    "print(new.strip()) # removes white spaces both left and right\n",
    "\n",
    "# Prefixing\n",
    "\n",
    "line = 'Have a nice day Baby'\n",
    "line.startswith('Have')"
   ]
  },
  {
   "cell_type": "markdown",
   "id": "13fcd7c9",
   "metadata": {},
   "source": [
    "Parsing an extractiong"
   ]
  },
  {
   "cell_type": "code",
   "execution_count": 111,
   "id": "23f27b47",
   "metadata": {},
   "outputs": [
    {
     "name": "stdout",
     "output_type": "stream",
     "text": [
      "20\n",
      "30\n",
      "gmail.com\n"
     ]
    }
   ],
   "source": [
    "mail =  'From oliver.k.traore@gmail.com at Monday August 2023 06:50:45'\n",
    "arobase_pos = mail.find('@')\n",
    "print(arobase_pos)\n",
    "\n",
    "space_pos = mail.find(' ', arobase_pos)\n",
    "print(space_pos)\n",
    "\n",
    "host = mail[arobase_pos+1:space_pos]\n",
    "print(host)"
   ]
  },
  {
   "cell_type": "markdown",
   "id": "6ed5ec27",
   "metadata": {},
   "source": [
    "## Chapter 7 :  Reading files "
   ]
  },
  {
   "cell_type": "markdown",
   "id": "4946065b",
   "metadata": {},
   "source": [
    "FILES PROCESSING"
   ]
  },
  {
   "cell_type": "markdown",
   "id": "14ae6bd0",
   "metadata": {},
   "source": [
    "A text file is a sequence of lines"
   ]
  },
  {
   "cell_type": "markdown",
   "id": "b56b80f0",
   "metadata": {},
   "source": [
    "open() function returns a file handle - a variable used to perform operations on a files"
   ]
  },
  {
   "cell_type": "markdown",
   "id": "d4a6b772",
   "metadata": {},
   "source": [
    "USING open()"
   ]
  },
  {
   "cell_type": "markdown",
   "id": "1c5286b5",
   "metadata": {},
   "source": [
    "handle = open(filename, mode) ; where 'filename' is a string and 'mode', optional ('r' to read the file and 'w' to write to it)"
   ]
  },
  {
   "cell_type": "code",
   "execution_count": 112,
   "id": "0fae25b2",
   "metadata": {},
   "outputs": [
    {
     "name": "stdout",
     "output_type": "stream",
     "text": [
      "<_io.TextIOWrapper name='fichier.txt' mode='r' encoding='cp1252'>\n"
     ]
    }
   ],
   "source": [
    "file = open('fichier.txt')\n",
    "print(file)"
   ]
  },
  {
   "cell_type": "raw",
   "id": "77fb6b89",
   "metadata": {},
   "source": [
    "open() permit to manipulate the file - read, write, close"
   ]
  },
  {
   "cell_type": "raw",
   "id": "652f4b02",
   "metadata": {},
   "source": [
    "The newline, \\n, is one characrter that indicates when a line ends."
   ]
  },
  {
   "cell_type": "code",
   "execution_count": 113,
   "id": "8f356d3e",
   "metadata": {},
   "outputs": [
    {
     "name": "stdout",
     "output_type": "stream",
     "text": [
      "I am TRAORE Koudadim Olivier \n",
      "I study actuarial science and financial engeneering\n"
     ]
    }
   ],
   "source": [
    "Me = 'I am TRAORE Koudadim Olivier \\nI study actuarial science and financial engeneering'\n",
    "print(Me)"
   ]
  },
  {
   "cell_type": "markdown",
   "id": "1dadec72",
   "metadata": {},
   "source": [
    "READING A TEXT FILE USING THE for LOOP : it is possible because of the fact that a text file is a sequence of strings"
   ]
  },
  {
   "cell_type": "code",
   "execution_count": 114,
   "id": "55d7c212",
   "metadata": {},
   "outputs": [
    {
     "name": "stdout",
     "output_type": "stream",
     "text": [
      "Dieu est amour. Car Dieu a tant aimÃ© le monde qu'il a donnÃ© son fils unique \n",
      "\n",
      "afin que quiconque croit en lui ne pÃ©risse point,mais qu'il ait la vie Ã©ternelle.\n",
      "\n",
      "\n",
      "\n",
      "Il est mon PÃ¨re et CrÃ©ateur. Il manifeste Ã  jamais ses bontÃ©s et sa fidÃ©litÃ©s envers moi tous les jous.\n",
      "\n",
      "Je nage dans sa grÃ¢ce au quotidien. Sa misÃ©corde envers moi est insondable....\n",
      "\n",
      "Number of lines :  5\n"
     ]
    }
   ],
   "source": [
    "file = open('fichier.txt')\n",
    "count_lines = 0 # a variable to count the lines in the text file\n",
    "\n",
    "for line in file :\n",
    "    count_lines = count_lines + 1\n",
    "    print(line)\n",
    "    \n",
    "print('Number of lines : ', count_lines)"
   ]
  },
  {
   "cell_type": "markdown",
   "id": "7654a08f",
   "metadata": {},
   "source": [
    "READING THE WHOLE FILE LIKE A SINGLE CHARACTER USING 'read()' FUNCTION"
   ]
  },
  {
   "cell_type": "code",
   "execution_count": 115,
   "id": "b3626db6",
   "metadata": {},
   "outputs": [
    {
     "name": "stdout",
     "output_type": "stream",
     "text": [
      "Number of characters in the text : 355\n",
      "The text is :\n",
      " Dieu est amour. Car Dieu a tant aimÃ© le monde qu'il a donnÃ© son fils unique \n",
      "afin que quiconque croit en lui ne pÃ©risse point,mais qu'il ait la vie Ã©ternelle.\n",
      "\n",
      "Il est mon PÃ¨re et CrÃ©ateur. Il manifeste Ã  jamais ses bontÃ©s et sa fidÃ©litÃ©s envers moi tous les jous.\n",
      "Je nage dans sa grÃ¢ce au quotidien. Sa misÃ©corde envers moi est insondable....\n",
      "\n"
     ]
    }
   ],
   "source": [
    "file = open('fichier.txt')\n",
    "text = file.read()\n",
    "print('Number of characters in the text :',len(text))\n",
    "print('The text is :\\n',text[:])"
   ]
  },
  {
   "cell_type": "code",
   "execution_count": 116,
   "id": "09c8293c",
   "metadata": {},
   "outputs": [
    {
     "name": "stdout",
     "output_type": "stream",
     "text": [
      "Il est mon PÃ¨re et CrÃ©ateur. Il manifeste Ã  jamais ses bontÃ©s et sa fidÃ©litÃ©s envers moi tous les jous.\n",
      "\n"
     ]
    }
   ],
   "source": [
    "file = open('fichier.txt')\n",
    "for line in file:\n",
    "    if line.startswith('Il '): # Searching a line in the file\n",
    "        print(line)"
   ]
  },
  {
   "cell_type": "code",
   "execution_count": 117,
   "id": "bb6686d2",
   "metadata": {},
   "outputs": [
    {
     "name": "stdout",
     "output_type": "stream",
     "text": [
      "Il est mon PÃ¨re et CrÃ©ateur. Il manifeste Ã  jamais ses bontÃ©s et sa fidÃ©litÃ©s envers moi tous les jous.\n",
      "\n",
      "Je nage dans sa grÃ¢ce au quotidien. Sa misÃ©corde envers moi est insondable....\n",
      "\n"
     ]
    }
   ],
   "source": [
    "file = open('fichier.txt')\n",
    "for line in file:\n",
    "    if line.startswith('Il ') or line.startswith('Je'): # Searching a line in the file\n",
    "        print(line)"
   ]
  },
  {
   "cell_type": "markdown",
   "id": "b71af7e1",
   "metadata": {},
   "source": [
    "In order to eliminate the white space in the ouput of the code 145, on can use the 'rstrip' function"
   ]
  },
  {
   "cell_type": "code",
   "execution_count": 118,
   "id": "cdfb96d0",
   "metadata": {},
   "outputs": [
    {
     "name": "stdout",
     "output_type": "stream",
     "text": [
      "Il est mon PÃ¨re et CrÃ©ateur. Il manifeste Ã  jamais ses bontÃ©s et sa fidÃ©litÃ©s envers moi tous les jous.\n",
      "Je nage dans sa grÃ¢ce au quotidien. Sa misÃ©corde envers moi est insondable....\n"
     ]
    }
   ],
   "source": [
    "file = open('fichier.txt')\n",
    "for line in file:\n",
    "    line = line.rstrip()\n",
    "    if line.startswith('Il') or line.startswith('Je'):\n",
    "        print(line)"
   ]
  },
  {
   "cell_type": "markdown",
   "id": "b1bc28da",
   "metadata": {},
   "source": [
    "Skipping lines using continue"
   ]
  },
  {
   "cell_type": "code",
   "execution_count": 119,
   "id": "77d18000",
   "metadata": {},
   "outputs": [
    {
     "name": "stdout",
     "output_type": "stream",
     "text": [
      "Il est mon PÃ¨re et CrÃ©ateur. Il manifeste Ã  jamais ses bontÃ©s et sa fidÃ©litÃ©s envers moi tous les jous.\n",
      "Je nage dans sa grÃ¢ce au quotidien. Sa misÃ©corde envers moi est insondable....\n"
     ]
    }
   ],
   "source": [
    "file = open('fichier.txt')\n",
    "for line in file:\n",
    "    line = line.rstrip()\n",
    "    if not (line.startswith('Il') or line.startswith('Je')):\n",
    "        continue # Skipping with continue\n",
    "    print(line)"
   ]
  },
  {
   "cell_type": "code",
   "execution_count": 120,
   "id": "0841817b",
   "metadata": {
    "scrolled": true
   },
   "outputs": [
    {
     "name": "stdout",
     "output_type": "stream",
     "text": [
      "Dieu est amour. Car Dieu a tant aimÃ© le monde qu'il a donnÃ© son fils unique\n"
     ]
    }
   ],
   "source": [
    "file = open('fichier.txt')\n",
    "for line in file:\n",
    "    line = line.rstrip()\n",
    "    if not 'Dieu' in line:\n",
    "        continue # Skipping with continue\n",
    "    print(line)"
   ]
  },
  {
   "cell_type": "markdown",
   "id": "f22c67d5",
   "metadata": {},
   "source": [
    "Prompt for file name"
   ]
  },
  {
   "cell_type": "code",
   "execution_count": 3,
   "id": "82d2ec74",
   "metadata": {},
   "outputs": [
    {
     "name": "stdout",
     "output_type": "stream",
     "text": [
      "Enter the file name here : Psalm1.1.txt\n",
      "The truly happy person\n",
      "doesn't follow wicked advice,\n",
      "doesn't stand on the road of sinners,\n",
      "and doesn't seat with the disprespectful.\n"
     ]
    }
   ],
   "source": [
    "fname = input('Enter the file name here : ')\n",
    "file = open(fname, 'r')\n",
    "for line in file:\n",
    "    line = line.rstrip()\n",
    "    print(line)"
   ]
  },
  {
   "cell_type": "markdown",
   "id": "c8688bdb",
   "metadata": {},
   "source": [
    "Bad file names"
   ]
  },
  {
   "cell_type": "code",
   "execution_count": 4,
   "id": "51b8cc34",
   "metadata": {},
   "outputs": [
    {
     "name": "stdout",
     "output_type": "stream",
     "text": [
      "Enter the file name here : pel\n",
      "The file pel does not exist in your directory...\n"
     ]
    }
   ],
   "source": [
    "fname = input('Enter the file name here : ')\n",
    "try :\n",
    "    file = open(fname)\n",
    "except:\n",
    "    print('The file', fname, 'does not exist in your directory...')\n",
    "    quit() # This function permit to avoid a traceback of python if the file's name is not properly entered\n",
    "    \n",
    "for line in file:\n",
    "    line = line.rstrip()\n",
    "    print(line)"
   ]
  },
  {
   "cell_type": "markdown",
   "id": "437541b2",
   "metadata": {},
   "source": [
    "## Chapter 8 : Lists "
   ]
  },
  {
   "cell_type": "markdown",
   "id": "47cf89ac",
   "metadata": {},
   "source": [
    "In programming we talk about algorithms (sets of rules or steps used to solve a problem)\n",
    "and data structures (particular ways of organizing data in a computer)"
   ]
  },
  {
   "cell_type": "markdown",
   "id": "bd1c0b73",
   "metadata": {},
   "source": [
    "A list is a kind of collection (a variable that contains many values)"
   ]
  },
  {
   "cell_type": "code",
   "execution_count": 2,
   "id": "2d45ec80",
   "metadata": {},
   "outputs": [
    {
     "name": "stdout",
     "output_type": "stream",
     "text": [
      "['Koudadim', 24, 'ans', 99.99, '%', 'efficace ...']\n",
      "Dernier élément : efficace ... \n",
      "Avant-dernier élément : %\n"
     ]
    }
   ],
   "source": [
    "List = ['Koudadim', 24, 'ans', 99.99,'%', 'efficace ...']\n",
    "print(List)\n",
    "\n",
    "print('Dernier élément :', List[-1], '\\nAvant-dernier élément :', List[-2])"
   ]
  },
  {
   "cell_type": "code",
   "execution_count": 2,
   "id": "45754b13",
   "metadata": {},
   "outputs": [
    {
     "name": "stdout",
     "output_type": "stream",
     "text": [
      "Happy new Year my dear  Jesus\n",
      "Happy new Year my dear  Baby\n",
      "Happy new Year my dear  John\n",
      "\n",
      "\n",
      "Jesus is Lord!\n",
      "My girlfriend is called  Baby\n",
      "John is one of my best friends\n"
     ]
    }
   ],
   "source": [
    "friends = ['Jesus', 'Baby', 'John']\n",
    "for friend in friends:\n",
    "    print('Happy new Year my dear ',friend)\n",
    "\n",
    "print('\\n')\n",
    "print(friends[0], 'is Lord!')\n",
    "print('My girlfriend is called ', friends[1])\n",
    "print(friends[2], 'is one of my best friends')"
   ]
  },
  {
   "cell_type": "markdown",
   "id": "1a31e957",
   "metadata": {},
   "source": [
    "Strings are immutable - we cannot change any string character using its index -  but a list is mutable - its elements can be changed using the indexes."
   ]
  },
  {
   "cell_type": "raw",
   "id": "6eeb1224",
   "metadata": {},
   "source": [
    "The range() function creates a list of numbers. \n",
    "range(from, to, step)"
   ]
  },
  {
   "cell_type": "code",
   "execution_count": 3,
   "id": "0f1c350f",
   "metadata": {},
   "outputs": [
    {
     "name": "stdout",
     "output_type": "stream",
     "text": [
      "0 - Happy new Year my dear  Jesus\n",
      "1 - Happy new Year my dear  Baby\n",
      "2 - Happy new Year my dear  John\n"
     ]
    }
   ],
   "source": [
    "friends = ['Jesus', 'Baby', 'John']\n",
    "for i in range(len(friends)):\n",
    "    friend = friends[i]\n",
    "    print(i,'-', 'Happy new Year my dear ',friend)"
   ]
  },
  {
   "cell_type": "markdown",
   "id": "dbcf1fca",
   "metadata": {},
   "source": [
    "Loop operations"
   ]
  },
  {
   "cell_type": "code",
   "execution_count": 24,
   "id": "ae1c314f",
   "metadata": {},
   "outputs": [
    {
     "name": "stdout",
     "output_type": "stream",
     "text": [
      "L1 =  [1, 2, 89, 45.3]\n",
      "L2 =  [5, 25, 5]\n",
      "L = L1 + L2 =  [1, 2, 89, 45.3, 5, 25, 5]\n",
      " L[1:4] =  [2, 89, 45.3] \n",
      " L[:5] =  [1, 2, 89, 45.3, 5] \n",
      " L[3:] =  [45.3, 5, 25, 5] \n",
      " L[:] =  [1, 2, 89, 45.3, 5, 25, 5]\n",
      "l : [1, 8, 6, 45, 0, 3, 'alpha', 'Mouton', 15.3]\n",
      "Slicing avec un pas de 2 : l[::2] = l[0:len(l):2] =  [1, 6, 0, 'alpha', 15.3]\n",
      "list of lists \n",
      "lst = [[1, 2, 89, 45.3], [5, 25, 5], [1, 8, 6, 45, 0, 3, 'alpha', 'Mouton', 15.3]]\n",
      "lst[::-1] = [[1, 8, 6, 45, 0, 3, 'alpha', 'Mouton', 15.3], [5, 25, 5], [1, 2, 89, 45.3]]\n",
      "Lst =   [[1, 2, 89, 45.3], [5, 25, 5], 'Oliver', [1, 8, 6, 45, 0, 3, 'alpha', 'Mouton', 15.3]]\n",
      "LL = [[1, 2, 89, 45.3], [5, 25, 5], 'Oliver', [1, 8, 6, 45, 0, 3, 'alpha', 'Mouton', 15.3], 7, 10, 1998]\n",
      "LLL = [[1, 2, 89, 45.3], [5, 25, 5], 'Oliver', [1, 8, 6, 45, 0, 3, 'alpha', 'Mouton', 15.3], 7, 10, 1998, 'Oliver']\n",
      "Nombre de fois que Oliver apparait dans la liste LLL: 2\n",
      "Affichage des éléments de la list LLL et leurs index\n",
      "0 [1, 2, 89, 45.3]\n",
      "1 [5, 25, 5]\n",
      "2 Oliver\n",
      "3 [1, 8, 6, 45, 0, 3, 'alpha', 'Mouton', 15.3]\n",
      "4 7\n",
      "5 10\n",
      "6 1998\n",
      "7 Oliver\n",
      "Parcours des éléments des listes l et L à l'aide de la métode zip()\n",
      "1 1\n",
      "8 2\n",
      "6 89\n",
      "45 45.3\n",
      "0 5\n",
      "3 25\n",
      "alpha 5\n"
     ]
    }
   ],
   "source": [
    "L1 =  [1, 2, 89, 45.3]\n",
    "L2 = [5, 25, 5]\n",
    "\n",
    "print('L1 = ', L1)\n",
    "print('L2 = ', L2)\n",
    "L = L1 + L2 # Concatenation of two lists using + operator\n",
    "\n",
    "print('L = L1 + L2 = ', L)\n",
    "\n",
    "# slicing\n",
    "print(' L[1:4] = ', L[1:4], '\\n', 'L[:5] = ', L[:5], '\\n', 'L[3:] = ', L[3:], '\\n', 'L[:] = ', L[:])\n",
    "\n",
    "type(L)\n",
    "\n",
    "l = [1, 8, 6, 45, 0, 3, \"alpha\", 'Mouton', 15.3]\n",
    "print(\"l :\", l)\n",
    "\n",
    "print('Slicing avec un pas de 2 : l[::2] = l[0:len(l):2] = ', l[::2])\n",
    "\n",
    "lst = [L1, L2, l]\n",
    "print('list of lists \\nlst =', lst)\n",
    "print('lst[::-1] =', lst[::-1])\n",
    "\n",
    "\n",
    "lst.insert(2, 'Oliver') # insertion d'un élément à l'indice 2\n",
    "print('Lst =  ', lst)\n",
    "\n",
    "ll = [7, 10, 1998]\n",
    "# Ajout d'une liste d'élément en fin d'une liste\n",
    "lst.extend(ll)\n",
    "print('LL =', lst)\n",
    "\n",
    "lst.insert(7, 'Oliver')\n",
    "print('LLL =', lst)\n",
    "print('Nombre de fois que Oliver apparait dans la liste LLL:', lst.count('Oliver'))\n",
    "\n",
    "print('Affichage des éléments de la list LLL et leurs index')\n",
    "for index, value in enumerate(lst) :\n",
    "    print(index, value)\n",
    "    \n",
    "# Parcours de deux listes à la fois\n",
    "\n",
    "print('Parcours des éléments des listes l et L à l\\'aide de la métode zip()')\n",
    "for a, b in zip(l, L) :\n",
    "    print(a, b)\n"
   ]
  },
  {
   "cell_type": "markdown",
   "id": "640af126",
   "metadata": {},
   "source": [
    "List methods"
   ]
  },
  {
   "cell_type": "code",
   "execution_count": 21,
   "id": "d7328d6e",
   "metadata": {},
   "outputs": [
    {
     "name": "stdout",
     "output_type": "stream",
     "text": [
      "<class 'list'>\n",
      "['__add__', '__class__', '__class_getitem__', '__contains__', '__delattr__', '__delitem__', '__dir__', '__doc__', '__eq__', '__format__', '__ge__', '__getattribute__', '__getitem__', '__gt__', '__hash__', '__iadd__', '__imul__', '__init__', '__init_subclass__', '__iter__', '__le__', '__len__', '__lt__', '__mul__', '__ne__', '__new__', '__reduce__', '__reduce_ex__', '__repr__', '__reversed__', '__rmul__', '__setattr__', '__setitem__', '__sizeof__', '__str__', '__subclasshook__', 'append', 'clear', 'copy', 'count', 'extend', 'index', 'insert', 'pop', 'remove', 'reverse', 'sort']\n"
     ]
    }
   ],
   "source": [
    "x = L\n",
    "print(type(x))\n",
    "print(dir(x))"
   ]
  },
  {
   "cell_type": "markdown",
   "id": "ff5c09f1",
   "metadata": {},
   "source": [
    "Building a list from scratch"
   ]
  },
  {
   "cell_type": "code",
   "execution_count": 6,
   "id": "79deb3b2",
   "metadata": {},
   "outputs": [
    {
     "name": "stdout",
     "output_type": "stream",
     "text": [
      "x =  ['book', 1998]\n",
      "Book in x ?  False\n",
      "2000 not in x ?  True\n",
      "y =  ['book', 1998, 8888, 95.45]\n",
      "New y :  [98756, 1998, 8888, 95.45]\n",
      "New y sorted :  None\n",
      "z =  ['Oliver', 'Baby', 'Alpha', 'Omega']\n",
      "z sorted :  None\n"
     ]
    }
   ],
   "source": [
    "# x = list() : It does not work\n",
    "x = [] # good! an empty list\n",
    "x.append('book')\n",
    "x.append(1998)\n",
    "print('x = ', x)\n",
    "\n",
    "# Is something in a list ?\n",
    "\n",
    "print('Book in x ? ', 'Book' in x)\n",
    "print('2000 not in x ? ', 2000 not in x)\n",
    "\n",
    "# Sorting list : Change the initial order of a list\n",
    "\n",
    "x.append(8888)\n",
    "x.append(95.45)\n",
    "y = x\n",
    "\n",
    "print('y = ', y)\n",
    "\n",
    "# It is impossible to apply the sort function to a list composed by items of different types.\n",
    "try:\n",
    "    print('y sorted : ', y.sort())\n",
    "except:\n",
    "    y[0] = 98756\n",
    "    print('New y : ', y)\n",
    "    y_sorted = y.sort()\n",
    "    print('New y sorted : ', y_sorted)\n",
    "z = ['Oliver', 'Baby', 'Alpha', 'Omega']\n",
    "print('z = ', z)\n",
    "print('z sorted : ', z.sort())"
   ]
  },
  {
   "cell_type": "markdown",
   "id": "af76301f",
   "metadata": {},
   "source": [
    "A string can be converted to a list using the 'split()' function"
   ]
  },
  {
   "cell_type": "code",
   "execution_count": 7,
   "id": "1057c358",
   "metadata": {},
   "outputs": [
    {
     "name": "stdout",
     "output_type": "stream",
     "text": [
      "I like coding in python. It is one of my hobies  : Length :  47\n",
      "Splitting string into a list\n",
      "List = string.split() =  ['I', 'like', 'coding', 'in', 'python.', 'It', 'is', 'one', 'of', 'my', 'hobies'] : Length =  11\n",
      "List[3:] =  ['in', 'python.', 'It', 'is', 'one', 'of', 'my', 'hobies']\n",
      "l1 = s.split() =  ['First;Second;Third'] Length =  1\n",
      "l2 =  ['First', 'Second', 'Third'] Length =  3\n",
      "E-mail :  oliver.k.traore@gmail.com\n",
      "['oliver.k.traore', 'gmail.com']\n"
     ]
    }
   ],
   "source": [
    "string = 'I like coding in python. It is one of my hobies'\n",
    "print(string, ' : Length : ', len(string))\n",
    "\n",
    "print('Splitting string into a list')\n",
    "List = string.split()\n",
    "print('List = string.split() = ', List, ': Length = ', len(List))\n",
    "print('List[3:] = ', List[3:])\n",
    "\n",
    "# Use of delimiter\n",
    "\n",
    "s = 'First;Second;Third'\n",
    "l1 = s.split()\n",
    "print('l1 = s.split() = ', l1, 'Length = ', len(l1))\n",
    "\n",
    "l2 = s.split(';')\n",
    "print('l2 = ', l2, 'Length = ', len(l2))\n",
    "\n",
    "# Double split patterns\n",
    "\n",
    "w = 'From oliver.k.traore@gmail.com Fri Aug 18 2023 10:05:45'\n",
    "email = w.split(' ')\n",
    "print('E-mail : ', email[1])\n",
    "guest = email[1].split('@')\n",
    "print(guest)"
   ]
  },
  {
   "cell_type": "markdown",
   "id": "496278c1",
   "metadata": {},
   "source": [
    "## Chapter 9 : Dictionaries "
   ]
  },
  {
   "cell_type": "raw",
   "id": "b82c8085",
   "metadata": {},
   "source": [
    "List and dictionary are two collections:\n",
    "A list is a linear collection of values that stay in order\n",
    "A dictionary is a bag of values, each with its own label. Every item in a dictionary is accessible through a key"
   ]
  },
  {
   "cell_type": "code",
   "execution_count": 68,
   "id": "27988251",
   "metadata": {},
   "outputs": [
    {
     "name": "stdout",
     "output_type": "stream",
     "text": [
      "{'money': 2000, 'dogs': 'Eldom', 'country': 'Burkina'}\n",
      "2000\n",
      "{'money': 2250.75, 'dogs': 'Eldom', 'country': 'Burkina'}\n",
      "{'Name': 'Oliver', 'ID': 'A30720075', 'Age': 24, 'Profession': 'Student'}\n"
     ]
    }
   ],
   "source": [
    "d = dict() # or d = {}\n",
    "d['money'] = 2000\n",
    "d['dogs'] = 'Eldom'\n",
    "d['country'] = 'Burkina'\n",
    "\n",
    "print(d)\n",
    "print(d['money'])\n",
    "d['money'] = d['money'] + 250.75\n",
    "print(d)\n",
    "# Generally, in a dictionnary, the keys are string, but in a list they indexes\n",
    "dd = {'Name': 'Oliver', 'ID': 'A30720075', 'Age': 24, 'Profession': 'Student'}\n",
    "print(dd)"
   ]
  },
  {
   "cell_type": "code",
   "execution_count": 27,
   "id": "4be7c0ad",
   "metadata": {},
   "outputs": [
    {
     "name": "stdout",
     "output_type": "stream",
     "text": [
      "Traduction : {'Chien ': 'Dog', 'Chat': 'Cat', 'Mouton ': 'Shepp', 'Oiseau ': 'Bird'} \n",
      "Inventaire : {'Anes': 10, 'Vaches': 5, 'Chevaux': 3, 'Poules': 15, 'Dindons': 20}\n"
     ]
    }
   ],
   "source": []
  },
  {
   "cell_type": "markdown",
   "id": "83241b04",
   "metadata": {},
   "source": [
    "Application of dictionary : counting"
   ]
  },
  {
   "cell_type": "code",
   "execution_count": 80,
   "id": "e0c63f46",
   "metadata": {},
   "outputs": [
    {
     "name": "stdout",
     "output_type": "stream",
     "text": [
      "{'a': 3, 'e': 2, 'd': 2, 'w': 1, 'p': 2, 'f': 1, 'x': 2}\n",
      "r  --->  0\n",
      "r  --->  0\n"
     ]
    }
   ],
   "source": [
    "# The most common letter in a list\n",
    "Dict = dict()\n",
    "letters = ['a','e','d','a','w','p','e','f','p','a','x','d','x']\n",
    "for letter in letters :\n",
    "    if letter not in Dict :\n",
    "        Dict[letter] = 1\n",
    "    else :\n",
    "        Dict[letter] = Dict[letter] + 1\n",
    "\n",
    "print(Dict)\n",
    "\n",
    "# Check the presence or absence of a key in dictionary and give it a default value\n",
    "letter = 'r'\n",
    "\n",
    "if letter in letters :\n",
    "    x = Dict[letter]\n",
    "else :\n",
    "    x = 0\n",
    "print(letter,' ---> ', x)\n",
    "\n",
    "    # Using of get function : x = Dict.get(key, default_value)\n",
    "\n",
    "x = Dict.get(letter, 0)\n",
    "print(letter, ' ---> ', x)"
   ]
  },
  {
   "cell_type": "code",
   "execution_count": 82,
   "id": "5bf4fa95",
   "metadata": {},
   "outputs": [
    {
     "name": "stdout",
     "output_type": "stream",
     "text": [
      "{'a': 3, 'e': 2, 'd': 2, 'w': 1, 'p': 2, 'f': 1, 'x': 2}\n"
     ]
    }
   ],
   "source": [
    "# Counting the precedent list's letters using get()\n",
    "\n",
    "Dict = dict()\n",
    "letters = ['a','e','d','a','w','p','e','f','p','a','x','d','x']\n",
    "for letter in letters :\n",
    "    Dict[letter] = Dict.get(letter, 0) + 1\n",
    "print(Dict)"
   ]
  },
  {
   "cell_type": "code",
   "execution_count": 84,
   "id": "925be0b6",
   "metadata": {},
   "outputs": [
    {
     "name": "stdout",
     "output_type": "stream",
     "text": [
      "Enter a line of text \n",
      "I'm traore Koudadim Olivier. \n",
      "line\n",
      "  I'm traore Koudadim Olivier. \n",
      "line's words [\"I'm\", 'traore', 'Koudadim', 'Olivier.']\n",
      "{\"I'm\": 1, 'traore': 1, 'Koudadim': 1, 'Olivier.': 1}\n"
     ]
    }
   ],
   "source": [
    "# Counting the words in a line of text\n",
    "\n",
    "count = dict()\n",
    "line = input('Enter a line of text \\n')\n",
    "\n",
    "words = line.split()\n",
    "\n",
    "print('line\\n ', line)\n",
    "print('line\\'s words', words)\n",
    "\n",
    "for word in words :\n",
    "    count[word] = count.get(word, 0) + 1\n",
    "print(count)"
   ]
  },
  {
   "cell_type": "code",
   "execution_count": 89,
   "id": "eaf748fe",
   "metadata": {},
   "outputs": [
    {
     "name": "stdout",
     "output_type": "stream",
     "text": [
      "Name : Oliver\n",
      "ID : A30720075\n",
      "Age : 24\n",
      "Profession : Student\n",
      "Keys : dict_keys(['Name', 'ID', 'Age', 'Profession'])\n",
      "Values :  dict_values(['Oliver', 'A30720075', 24, 'Student'])\n",
      "Items : dict_items([('Name', 'Oliver'), ('ID', 'A30720075'), ('Age', 24), ('Profession', 'Student')])\n",
      "Name Oliver\n",
      "ID A30720075\n",
      "Age 24\n",
      "Profession Student\n"
     ]
    }
   ],
   "source": [
    "# Even though a the elements in a dictionary are nor stored in order, we can define a for loop on the keys\n",
    "\n",
    "for key in dd :\n",
    "    print(key, ':', dd[key])\n",
    "    \n",
    "# Retrieving lists of keys, values and items (both key and value)\n",
    "\n",
    "Keys = dd.keys() # or Keys = listdd\n",
    "print('Keys :', Keys)\n",
    "Values = dd.values()\n",
    "print('Values : ', Values)\n",
    "Items = dd.items() # a tuple\n",
    "print('Items :', Items)\n",
    "\n",
    "# Two iteration variables\n",
    "\n",
    "for i, j in dd.items() :\n",
    "    print(i, j)\n"
   ]
  },
  {
   "cell_type": "markdown",
   "id": "7032aab6",
   "metadata": {},
   "source": [
    "The words in a text ..."
   ]
  },
  {
   "cell_type": "code",
   "execution_count": 13,
   "id": "b3185a75",
   "metadata": {},
   "outputs": [
    {
     "name": "stdout",
     "output_type": "stream",
     "text": [
      "Enter File name : \n",
      "The\n",
      "*** New ***\n",
      "1\n",
      "truly\n",
      "*** New ***\n",
      "1\n",
      "happy\n",
      "*** New ***\n",
      "1\n",
      "person\n",
      "*** New ***\n",
      "1\n",
      "doesn't\n",
      "*** New ***\n",
      "1\n",
      "follow\n",
      "*** New ***\n",
      "1\n",
      "wicked\n",
      "*** New ***\n",
      "1\n",
      "advice,\n",
      "*** New ***\n",
      "1\n",
      "doesn't\n",
      "*** Existing ***\n",
      "stand\n",
      "*** New ***\n",
      "1\n",
      "on\n",
      "*** New ***\n",
      "1\n",
      "the\n",
      "*** New ***\n",
      "1\n",
      "road\n",
      "*** New ***\n",
      "1\n",
      "of\n",
      "*** New ***\n",
      "1\n",
      "sinners,\n",
      "*** New ***\n",
      "1\n",
      "and\n",
      "*** New ***\n",
      "1\n",
      "doesn't\n",
      "*** Existing ***\n",
      "seat\n",
      "*** New ***\n",
      "1\n",
      "with\n",
      "*** New ***\n",
      "1\n",
      "the\n",
      "*** Existing ***\n",
      "disprespectful.\n",
      "*** New ***\n",
      "1\n",
      "{'The': 1, 'truly': 1, 'happy': 1, 'person': 1, \"doesn't\": 3, 'follow': 1, 'wicked': 1, 'advice,': 1, 'stand': 1, 'on': 1, 'the': 2, 'road': 1, 'of': 1, 'sinners,': 1, 'and': 1, 'seat': 1, 'with': 1, 'disprespectful.': 1}\n"
     ]
    }
   ],
   "source": [
    "fname = input('Enter File name : ')\n",
    "if len(fname) < 1 :\n",
    "    fname = 'Psalm1.1.txt'\n",
    "handle = open(fname)\n",
    "\n",
    "ddd = dict()\n",
    "for line in handle :\n",
    "    line = line.rstrip()\n",
    "    #print(line)\n",
    "    words = line.split()\n",
    "    #print(words)\n",
    "    for word in words :\n",
    "        print(word)\n",
    "        if word in ddd :\n",
    "            ddd[word] = ddd[word] + 1\n",
    "            print('*** Existing ***')\n",
    "        else :\n",
    "            print('*** New ***')\n",
    "            ddd[word] = 1\n",
    "            print(ddd[word])\n",
    "print(ddd)       \n",
    "    "
   ]
  },
  {
   "cell_type": "code",
   "execution_count": 18,
   "id": "35b7025d",
   "metadata": {},
   "outputs": [
    {
     "name": "stdout",
     "output_type": "stream",
     "text": [
      "Enter File name : \n",
      "The old 0\n",
      "The new 1\n",
      "truly old 0\n",
      "truly new 1\n",
      "happy old 0\n",
      "happy new 1\n",
      "person old 0\n",
      "person new 1\n",
      "doesn't old 0\n",
      "doesn't new 1\n",
      "follow old 0\n",
      "follow new 1\n",
      "wicked old 0\n",
      "wicked new 1\n",
      "advice, old 0\n",
      "advice, new 1\n",
      "doesn't old 1\n",
      "doesn't new 2\n",
      "stand old 0\n",
      "stand new 1\n",
      "on old 0\n",
      "on new 1\n",
      "the old 0\n",
      "the new 1\n",
      "road old 0\n",
      "road new 1\n",
      "of old 0\n",
      "of new 1\n",
      "sinners, old 0\n",
      "sinners, new 1\n",
      "and old 0\n",
      "and new 1\n",
      "doesn't old 2\n",
      "doesn't new 3\n",
      "seat old 0\n",
      "seat new 1\n",
      "with old 0\n",
      "with new 1\n",
      "the old 1\n",
      "the new 2\n",
      "disprespectful. old 0\n",
      "disprespectful. new 1\n",
      "{'The': 1, 'truly': 1, 'happy': 1, 'person': 1, \"doesn't\": 3, 'follow': 1, 'wicked': 1, 'advice,': 1, 'stand': 1, 'on': 1, 'the': 2, 'road': 1, 'of': 1, 'sinners,': 1, 'and': 1, 'seat': 1, 'with': 1, 'disprespectful.': 1}\n"
     ]
    }
   ],
   "source": [
    "# Another way ...\n",
    "\n",
    "fname = input('Enter File name : ')\n",
    "if len(fname) < 1 :\n",
    "    fname = 'Psalm1.1.txt'\n",
    "handle = open(fname)\n",
    "\n",
    "ddd = dict()\n",
    "for line in handle :\n",
    "    line = line.rstrip()\n",
    "    #print(line)\n",
    "    words = line.split()\n",
    "    #print(words)\n",
    "    for word in words :\n",
    "        oldcount = ddd.get(word,0) # If the key is not in the dictionary, the count is zero\n",
    "        print(word, 'old', oldcount)\n",
    "        newcount = oldcount + 1\n",
    "        ddd[word] = newcount\n",
    "        print(word, 'new', newcount)\n",
    "print(ddd)       \n",
    "    "
   ]
  },
  {
   "cell_type": "code",
   "execution_count": 23,
   "id": "433895c6",
   "metadata": {},
   "outputs": [
    {
     "name": "stdout",
     "output_type": "stream",
     "text": [
      "Enter File name : \n",
      "{'The': 1, 'truly': 1, 'happy': 1, 'person': 1, \"doesn't\": 3, 'follow': 1, 'wicked': 1, 'advice,': 1, 'stand': 1, 'on': 1, 'the': 2, 'road': 1, 'of': 1, 'sinners,': 1, 'and': 1, 'seat': 1, 'with': 1, 'disprespectful.': 1}\n",
      "The most common word is : doesn't : number of use: 3\n"
     ]
    }
   ],
   "source": [
    "fname = input('Enter File name : ')\n",
    "if len(fname) < 1 :\n",
    "    fname = 'Psalm1.1.txt'\n",
    "handle = open(fname)\n",
    "\n",
    "ddd = dict()\n",
    "for line in handle :\n",
    "    line = line.rstrip()\n",
    "    #print(line)\n",
    "    words = line.split()\n",
    "    #print(words)\n",
    "    for word in words :\n",
    "        # Idiom : retrieve-create-update-count\n",
    "        ddd[word] = ddd.get(word, 0) + 1\n",
    "print(ddd)       \n",
    "\n",
    "# The most common word\n",
    "\n",
    "word_value = -11111\n",
    "largest_word = None\n",
    "\n",
    "for word, value in ddd.items() :\n",
    "    if word_value < value :\n",
    "        largest_word = word\n",
    "        word_value = value\n",
    "print('The most common word is :', largest_word, ': number of use:', word_value)\n"
   ]
  },
  {
   "cell_type": "markdown",
   "id": "788ae99f",
   "metadata": {},
   "source": [
    "## Chapter 10 : Tuples "
   ]
  },
  {
   "cell_type": "raw",
   "id": "58f46f4a",
   "metadata": {},
   "source": [
    "Tuples function like lists, except the fact that :\n",
    "    A list is modifiable - with methods like append(), sort(), reverse() - while a tuple is not\n",
    "Tuples are comparable if its items are of same type"
   ]
  },
  {
   "cell_type": "code",
   "execution_count": 59,
   "id": "a2fc0815",
   "metadata": {},
   "outputs": [
    {
     "name": "stdout",
     "output_type": "stream",
     "text": [
      "('Oliver', 1998, 'Akiana', 2001)\n",
      "tuple t1 : (12.3, 96, 1, 78)\n",
      "tuple t2 : (5, 89, 75, 10)\n",
      "t1 < t2 : False\n"
     ]
    }
   ],
   "source": [
    "t = ('Oliver', 1998, 'Akiana', 2001)\n",
    "print(t)\n",
    "\n",
    "t1, t2 = (12.3, 96, 1, 78), (5, 89, 75, 10)\n",
    "print('tuple t1 :', t1)\n",
    "print('tuple t2 :', t2)\n",
    "# In comparison, when if a first bolean value is found for two elements, the comparison ends\n",
    "print('t1 < t2 :', t1 < t2)"
   ]
  },
  {
   "cell_type": "markdown",
   "id": "b3a3efc7",
   "metadata": {},
   "source": [
    "Sorting list of tuples"
   ]
  },
  {
   "cell_type": "code",
   "execution_count": 48,
   "id": "c0624dd2",
   "metadata": {},
   "outputs": [
    {
     "name": "stdout",
     "output_type": "stream",
     "text": [
      "d =  {'q': 89, 'm': 56.4, 'a': 125}\n",
      "d.items() : dict_items([('q', 89), ('m', 56.4), ('a', 125)])\n",
      "sorted(d.items()) : [('a', 125), ('m', 56.4), ('q', 89)]\n",
      "a 125\n",
      "m 56.4\n",
      "q 89\n",
      "tmp : [(89, 'q'), (56.4, 'm'), (125, 'a')]\n",
      "sorted_tmp descending order: [(125, 'a'), (89, 'q'), (56.4, 'm')]\n",
      "sorted_tmp ascending order: [(56.4, 'm'), (89, 'q'), (125, 'a')]\n"
     ]
    }
   ],
   "source": [
    "d = {'q':89, 'm':56.4, 'a':125}\n",
    "print('d = ', d)\n",
    "\n",
    "print('d.items() :', d.items())\n",
    "# Sorting by the keys\n",
    "print('sorted(d.items()) :', sorted(d.items()))\n",
    "\n",
    "for (k,v) in sorted(d.items()):\n",
    "    print(k, v)\n",
    "\n",
    "# Sorting by the values: construct first a tuple of form (value, key)\n",
    "\n",
    "tmp = list()\n",
    "for (k,v) in d.items():\n",
    "    tmp.append( (v, k) )\n",
    "print('tmp :', tmp)\n",
    "sorted_tmp = sorted(tmp, reverse = True)\n",
    "print('sorted_tmp descending order:', sorted_tmp)\n",
    "\n",
    "sorted_tmp = sorted(tmp, reverse = False)\n",
    "print('sorted_tmp ascending order:', sorted_tmp)"
   ]
  },
  {
   "cell_type": "code",
   "execution_count": 53,
   "id": "38767f31",
   "metadata": {},
   "outputs": [
    {
     "name": "stdout",
     "output_type": "stream",
     "text": [
      "sorted_tmp ascending order: [(56.4, 'm'), (89, 'q'), (125, 'a')]\n"
     ]
    }
   ],
   "source": [
    "# Even a shorter version\n",
    "print('sorted_tmp ascending order:', sorted([(v, k) for k, v in d.items()]))"
   ]
  },
  {
   "cell_type": "markdown",
   "id": "65a4ba88",
   "metadata": {},
   "source": [
    "The top 10 most common words in a text"
   ]
  },
  {
   "cell_type": "code",
   "execution_count": 51,
   "id": "fb209c10",
   "metadata": {},
   "outputs": [
    {
     "name": "stdout",
     "output_type": "stream",
     "text": [
      "Enter File name : E.Albert.txt\n",
      "{\"'Science\": 1, 'without': 2, 'religion': 2, 'is': 5, 'lame,': 1, 'science': 1, \"blind.'\": 1, 'So': 1, 'Einstein': 1, 'once': 1, 'wrote': 1, 'to': 3, 'explain': 1, 'his': 3, 'personal': 1, 'creed:': 1, \"'A\": 1, 'religious': 1, 'person': 1, 'devout': 1, 'in': 1, 'the': 3, 'sense': 1, 'that': 1, 'he': 4, 'has': 1, 'no': 1, 'doubt': 1, 'of': 8, 'significance': 1, 'those': 1, 'super-personal': 1, 'objects': 1, 'and': 3, 'goals': 1, 'which': 1, 'nei\\x02ther': 1, 'require': 1, 'nor': 1, 'are': 3, 'capable': 2, 'rational': 2, \"foundation.'\": 1, 'His': 3, 'was': 2, 'not': 3, 'a': 3, 'life': 1, 'prayer': 1, 'worship.': 1, 'Yet': 1, 'lived': 1, 'by': 5, 'deep': 1, 'faithâ€”a': 1, 'faith': 1, 'foundationâ€”that': 1, 'there': 1, 'laws': 1, 'Nature': 1, 'be': 1, 'discovered.': 1, 'lifelong': 1, 'pursuit': 1, 'discover': 1, 'them.': 1, 'realism': 1, 'optimism': 1, 'illuminated': 1, 'remark:': 1, \"'Subtle\": 1, 'Lord,': 1, 'but': 2, 'malicious': 1, 'He': 1, \"not'\": 1, \"('Raffiniert\": 1, 'ist': 2, 'der': 1, 'Herrgott': 1, 'aber': 2, 'boshaft': 1, 'er': 1, \"nicht.').\": 1, 'When': 1, 'asked': 1, 'colleague': 1, 'what': 1, 'meant': 1, 'that,': 1, 'replied:': 1, \"'Nature\": 1, 'hides': 1, 'her': 2, 'secret': 1, 'because': 1, 'essential': 1, 'loftiness,': 1, 'means': 1, \"ruse'\": 1, \"('Die\": 1, 'Natur': 1, 'verbirgt': 1, 'ihr': 1, 'Geheimnis': 1, 'durch': 2, 'die': 1, 'Erhabenheit': 1, 'ihres': 1, 'Wesens,': 1, 'nicht': 1, \"List.').\": 1}\n",
      "The most common word is : of : number of use: 8\n",
      "of 8\n",
      "is 5\n",
      "by 5\n",
      "he 4\n",
      "to 3\n",
      "the 3\n",
      "not 3\n",
      "his 3\n",
      "are 3\n",
      "and 3\n"
     ]
    }
   ],
   "source": [
    "fname = input('Enter File name : ')\n",
    "if len(fname) < 1 :\n",
    "    fname = 'Psalm1.1.txt'\n",
    "handle = open(fname)\n",
    "\n",
    "ddd = dict()\n",
    "for line in handle :\n",
    "    line = line.rstrip()\n",
    "    #print(line)\n",
    "    words = line.split()\n",
    "    #print(words)\n",
    "    for word in words :\n",
    "        # Idiom : retrieve-create-update-count\n",
    "        ddd[word] = ddd.get(word, 0) + 1\n",
    "print(ddd)       \n",
    "\n",
    "# The most common word\n",
    "\n",
    "word_value = -11111\n",
    "largest_word = None\n",
    "\n",
    "for word, value in ddd.items() :\n",
    "    if word_value < value :\n",
    "        largest_word = word\n",
    "        word_value = value\n",
    "print('The most common word is :', largest_word, ': number of use:', word_value)\n",
    "\n",
    "lst = list()\n",
    "for key, value in ddd.items() :\n",
    "    lst.append((value, key))\n",
    "    \n",
    "sorted_lst = sorted(lst, reverse = True)\n",
    "\n",
    "for value, key in sorted_lst[:10] :\n",
    "    print(key, value)"
   ]
  },
  {
   "cell_type": "markdown",
   "id": "a9c89380",
   "metadata": {},
   "source": [
    "SORTING DICTIONARY USING TUPLES"
   ]
  },
  {
   "cell_type": "code",
   "execution_count": 62,
   "id": "b3dcce8a",
   "metadata": {},
   "outputs": [
    {
     "name": "stdout",
     "output_type": "stream",
     "text": [
      "Dictionary ddd: {'The': 1, 'truly': 1, 'happy': 1, 'person': 1, \"doesn't\": 3, 'follow': 1, 'wicked': 1, 'advice,': 1, 'stand': 1, 'on': 1, 'the': 2, 'road': 1, 'of': 1, 'sinners,': 1, 'and': 1, 'seat': 1, 'with': 1, 'disprespectful.': 1}\n",
      "A list of tuples from ddd: dict_items([('The', 1), ('truly', 1), ('happy', 1), ('person', 1), (\"doesn't\", 3), ('follow', 1), ('wicked', 1), ('advice,', 1), ('stand', 1), ('on', 1), ('the', 2), ('road', 1), ('of', 1), ('sinners,', 1), ('and', 1), ('seat', 1), ('with', 1), ('disprespectful.', 1)])\n",
      "Dictionary sorted using tuples: [('The', 1), ('advice,', 1), ('and', 1), ('disprespectful.', 1), (\"doesn't\", 3), ('follow', 1), ('happy', 1), ('of', 1), ('on', 1), ('person', 1), ('road', 1), ('seat', 1), ('sinners,', 1), ('stand', 1), ('the', 2), ('truly', 1), ('wicked', 1), ('with', 1)]\n"
     ]
    }
   ],
   "source": [
    "fname = 'Psalm1.1.txt'\n",
    "handle = open(fname)\n",
    "\n",
    "ddd = dict()\n",
    "for line in handle :\n",
    "    line = line.rstrip()\n",
    "    #print(line)\n",
    "    words = line.split()\n",
    "    #print(words)\n",
    "    for word in words :\n",
    "        # Idiom : retrieve-create-update-count\n",
    "        ddd[word] = ddd.get(word, 0) + 1\n",
    "print('Dictionary ddd:', ddd)\n",
    "\n",
    "dd = ddd.items()\n",
    "print('A list of tuples from ddd:', dd)\n",
    "print('Dictionary sorted using tuples:', sorted(dd))"
   ]
  },
  {
   "cell_type": "markdown",
   "id": "7c6586d1",
   "metadata": {},
   "source": [
    "## Chapter 11 : Regular expressions "
   ]
  },
  {
   "cell_type": "raw",
   "id": "4fbe198e",
   "metadata": {},
   "source": [
    ". Regular expressions are a langage unto themselves, a langage of 'marker characters' - programming with characters\n",
    ". They are very powertful and quite cryptic "
   ]
  },
  {
   "cell_type": "raw",
   "id": "66ffaa83",
   "metadata": {},
   "source": [
    "^ matches the beginning of a line\n",
    "$ matches the end of a line\n",
    ". matches any character\n",
    "\\s matches any whitespace\n",
    "\\S matches any non-whitespace character\n",
    "* repeats a character zero or more times\n",
    "*? repeats a character zero or more times (non-greedy)\n",
    "+ repeats a character one or more times\n",
    "+? repeats a character one or more times (non-greedy)\n",
    "[aeiou] matches a single character in the listed set\n",
    "[^XYZ] matches a single character not in the listed set\n",
    "[a-z0-9] the set of characters can include a range\n",
    "( indicates where a string extraction is to start\n",
    ") indicates where a string extraction is to end"
   ]
  },
  {
   "cell_type": "markdown",
   "id": "1a816075",
   "metadata": {},
   "source": [
    "Regular expressions module"
   ]
  },
  {
   "cell_type": "raw",
   "id": "c2e0a6ae",
   "metadata": {},
   "source": [
    "\"import re\" : a library that permits to use regular expressions (regex or regexp)\n",
    "re.research() like find() permits to determine if a string matches a regex\n",
    "re.findall() permits to extract a portion of string that matches a regex"
   ]
  },
  {
   "cell_type": "code",
   "execution_count": 75,
   "id": "7abc74bb",
   "metadata": {},
   "outputs": [
    {
     "name": "stdout",
     "output_type": "stream",
     "text": [
      "***The text***\n",
      "The truly happy person\n",
      "doesn't follow wicked advice,\n",
      "doesn't stand on the road of sinners,\n",
      "and doesn't seat with the disprespectful.\n",
      "***Use of find()***\n",
      "***Use of re.research()***\n",
      "***Use of \n"
     ]
    }
   ],
   "source": [
    "fname = 'Psalm1.1.txt'\n",
    "handle = open(fname)\n",
    "\n",
    "print('***The text***')\n",
    "for line in handle :\n",
    "    line = line.rstrip()\n",
    "    print(line)\n",
    "        \n",
    "        \n",
    "print('***Use of ')"
   ]
  },
  {
   "cell_type": "code",
   "execution_count": 78,
   "id": "80ccf251",
   "metadata": {},
   "outputs": [
    {
     "name": "stdout",
     "output_type": "stream",
     "text": [
      "***Use of find()***\n",
      "The truly happy person\n"
     ]
    }
   ],
   "source": [
    "# Use of find()\n",
    "\n",
    "fname = 'Psalm1.1.txt'\n",
    "handle = open(fname)\n",
    "print('***Use of find()***')\n",
    "for line in handle :\n",
    "    line = line.rstrip()\n",
    "    if line.find('happy') >= 0 :\n",
    "        print(line)"
   ]
  },
  {
   "cell_type": "code",
   "execution_count": null,
   "id": "a34bbc20",
   "metadata": {},
   "outputs": [],
   "source": []
  },
  {
   "cell_type": "code",
   "execution_count": 81,
   "id": "993a07fd",
   "metadata": {},
   "outputs": [
    {
     "name": "stdout",
     "output_type": "stream",
     "text": [
      "***Use of re.search()***\n",
      "The truly happy person\n"
     ]
    }
   ],
   "source": [
    "# Use of re.search() like find()\n",
    "\n",
    "fname = 'Psalm1.1.txt'\n",
    "handle = open(fname)\n",
    "print('***Use of re.search()***')\n",
    "import re\n",
    "for line in handle :\n",
    "    line = line.rstrip()\n",
    "    if re.search('happy', line) :\n",
    "        print(line)"
   ]
  },
  {
   "cell_type": "code",
   "execution_count": 83,
   "id": "782cdf31",
   "metadata": {},
   "outputs": [
    {
     "name": "stdout",
     "output_type": "stream",
     "text": [
      "***Use of find()***\n",
      "The truly happy person\n"
     ]
    }
   ],
   "source": [
    "# Use of startswith()\n",
    "\n",
    "fname = 'Psalm1.1.txt'\n",
    "handle = open(fname)\n",
    "print('***Use of find()***')\n",
    "for line in handle :\n",
    "    line = line.rstrip()\n",
    "    if line.startswith('The') :\n",
    "        print(line)"
   ]
  },
  {
   "cell_type": "code",
   "execution_count": 87,
   "id": "21f9fdda",
   "metadata": {},
   "outputs": [
    {
     "name": "stdout",
     "output_type": "stream",
     "text": [
      "***Use of re.search()***\n",
      "The truly happy person\n"
     ]
    }
   ],
   "source": [
    "# Use of re.search() like startswith()\n",
    "\n",
    "fname = 'Psalm1.1.txt'\n",
    "handle = open(fname)\n",
    "print('***Use of re.search()***')\n",
    "#import re\n",
    "for line in handle :\n",
    "    line = line.rstrip()\n",
    "    if re.search('^The', line) :\n",
    "        print(line)"
   ]
  },
  {
   "cell_type": "markdown",
   "id": "150b0ccf",
   "metadata": {},
   "source": [
    "Matching and extracting data"
   ]
  },
  {
   "cell_type": "code",
   "execution_count": 107,
   "id": "7371e012",
   "metadata": {},
   "outputs": [
    {
     "name": "stdout",
     "output_type": "stream",
     "text": [
      "data: Jesus is my savior and redeemer. Through my Faith in Him, I am now the son of God since 2008\n",
      "***Extraction using re.findall()***\n",
      "x : ['2008']\n",
      "y : Jesus is my savior and redeemer. Through my Faith in Him, I am now the son of God since 2008\n",
      "***Use of re.search()***\n",
      "z : <re.Match object; span=(88, 92), match='2008'>\n",
      "Z : <re.Match object; span=(9, 11), match='my'>\n"
     ]
    }
   ],
   "source": [
    "import re\n",
    "\n",
    "data = 'Jesus is my savior and redeemer. Through my Faith in Him, I am now the son of God since 2008'\n",
    "print('data:', data)\n",
    "\n",
    "# Extraction using re.findall()\n",
    "\n",
    "print('***Extraction using re.findall()***')\n",
    "x= re.findall('[0-9]+', data)\n",
    "print('x :', x)\n",
    "\n",
    "y = re.findall('[a-b]+', data)\n",
    "print('y :', data)\n",
    "\n",
    "# re.search retuen True/False depending on whether the string matches the regex\n",
    "\n",
    "print('***Use of re.search()***')\n",
    "z = re.search('[0-9]+', data)\n",
    "print('z :', z)\n",
    "\n",
    "Z = re.search('[my]+', data)\n",
    "print('Z :', Z)\n"
   ]
  },
  {
   "cell_type": "code",
   "execution_count": 111,
   "id": "3e6f4e71",
   "metadata": {},
   "outputs": [
    {
     "name": "stdout",
     "output_type": "stream",
     "text": [
      "x : From: Unsing the : Character\n",
      "***Greedy matching***\n",
      "y : ['From: Unsing the :']\n",
      "***Non-greedy matching***\n",
      "z : ['From:']\n"
     ]
    }
   ],
   "source": [
    "x = 'From: Unsing the : Character'\n",
    "print('x :', x)\n",
    "\n",
    "print('***Greedy matching***')\n",
    "y = re.findall('^F.+:', x) \n",
    "print('y :', y)\n",
    "\n",
    "print('***Non-greedy matching***')\n",
    "z = re.findall('^F.+?:', x)\n",
    "print('z :', z)"
   ]
  },
  {
   "cell_type": "code",
   "execution_count": 114,
   "id": "bde49c68",
   "metadata": {},
   "outputs": [
    {
     "name": "stdout",
     "output_type": "stream",
     "text": [
      "Fine-tuning string extraction\n",
      "x : From oliver.k.traore@edu.uca.ma Mon 21 Aug 2023 01:30 PM\n",
      "Mail in x : ['oliver.k.traore@edu.uca.ma']\n"
     ]
    }
   ],
   "source": [
    "# Fine-tuning string extraction\n",
    "\n",
    "print('Fine-tuning string extraction')\n",
    "\n",
    "x = 'From oliver.k.traore@edu.uca.ma Mon 21 Aug 2023 01:30 PM'\n",
    "mail = re.findall('\\S+@\\S+', x) # same as: re.findall('From (\\S+@\\S+)', x)\n",
    "\n",
    "print('x :', x)\n",
    "print('Mail in x :', mail)\n"
   ]
  },
  {
   "cell_type": "code",
   "execution_count": 121,
   "id": "a49b1657",
   "metadata": {},
   "outputs": [
    {
     "name": "stdout",
     "output_type": "stream",
     "text": [
      "String parsing: Extracting the host name from: From oliver.k.traore@edu.uca.ma Mon 21 Aug 2023 01:30 PM\n",
      "Host : edu.uca.ma\n",
      "***Another procedure***\n",
      "List from x: ['From', 'oliver.k.traore@edu.uca.ma', 'Mon', '21', 'Aug', '2023', '01:30', 'PM']\n",
      "E-mail : oliver.k.traore@edu.uca.ma\n",
      "The host is : edu.uca.ma\n",
      "***Procedure using regex***\n",
      "The host is : ['edu.uca.ma']\n"
     ]
    }
   ],
   "source": [
    "# String parsing\n",
    "\n",
    "print('String parsing: Extracting the host name from:', x)\n",
    "\n",
    "pos = x.find('@') # @ position\n",
    "host_pos = x.find(' ', pos)\n",
    "host = x[pos+1 : host_pos]\n",
    "print('Host :', host)\n",
    "\n",
    "print('***Another procedure***')\n",
    "\n",
    "lst = x.split()\n",
    "print('List from x:', lst)\n",
    "email = lst[1]\n",
    "\n",
    "print('E-mail :', email)\n",
    "\n",
    "l = email.split('@')\n",
    "host = l[1]\n",
    "print('The host is :', host)\n",
    "\n",
    "print('***Procedure using regex***')\n",
    "\n",
    "host = re.findall('@([^ ]*)', x) # same as: re.findall('^From .*@([^ ]*)', x)\n",
    "print('The host is :', host)"
   ]
  },
  {
   "cell_type": "code",
   "execution_count": 129,
   "id": "569582a4",
   "metadata": {},
   "outputs": [
    {
     "name": "stdout",
     "output_type": "stream",
     "text": [
      "What is the salary in this text : A financial ingeneer is payed a least, $ 5,000 a month.\n",
      "Salary : ['$ 5,000']\n"
     ]
    }
   ],
   "source": [
    "# Escape character\n",
    "\n",
    "text = 'A financial ingeneer is payed a least, $ 5,000 a month.'\n",
    "\n",
    "print('What is the salary in this text :', text)\n",
    "salary = re.findall('\\$.[0-9,]+', text)\n",
    "print('Salary :', salary)"
   ]
  },
  {
   "cell_type": "markdown",
   "id": "569d16c4",
   "metadata": {},
   "source": [
    "## Chapter 12 : Networked programs"
   ]
  },
  {
   "cell_type": "markdown",
   "id": "e9c92c73",
   "metadata": {},
   "source": [
    "6:20:00"
   ]
  },
  {
   "cell_type": "markdown",
   "id": "7dbbdb8c",
   "metadata": {},
   "source": [
    "An HTTP browser with python"
   ]
  },
  {
   "cell_type": "code",
   "execution_count": 131,
   "id": "ede44316",
   "metadata": {},
   "outputs": [
    {
     "name": "stdout",
     "output_type": "stream",
     "text": [
      "HTTP/1.1 400 Bad Request\r\n",
      "Date: Mon, 21 Aug 2023 16:35:55 GMT\r\n",
      "Server: Apache/2.4.18 (Ubuntu)\r\n",
      "Content-Length: 308\r\n",
      "Connection: close\r\n",
      "Content-Type: text/html; charset=iso-8859-1\r\n",
      "\r\n",
      "<!DOCTYPE HTML PUBLIC \"-//IETF//DTD HTML 2.0//EN\">\n",
      "<html><head>\n",
      "<title>400 Bad Request</title>\n",
      "</head><body>\n",
      "<h1>Bad Request</h1>\n",
      "<p>Your browser sent a request that this server could not understand.<br />\n",
      "</p>\n",
      "<hr>\n",
      "<address>Apache/2.4.18 (Ubuntu) Server at do1.dr-chuck.com Port 80</address>\n",
      "</body></html>\n",
      "\n"
     ]
    }
   ],
   "source": [
    "import socket \n",
    "\n",
    "mysock = socket.socket(socket.AF_INET, socket.SOCK_STREAM)\n",
    "mysock.connect(('data.pr4e.org', 80))\n",
    "\n",
    "cmd = 'GET http://data.pr4e.org/romeo.txt HTTP/1.0\\n\\n'.encode()\n",
    "mysock.send(cmd)\n",
    "\n",
    "while True :\n",
    "    data = mysock.recv(512)\n",
    "    if (len(data)<1) :\n",
    "        break\n",
    "    print(data.decode())\n",
    "mysock.close()"
   ]
  }
 ],
 "metadata": {
  "kernelspec": {
   "display_name": "Python 3 (ipykernel)",
   "language": "python",
   "name": "python3"
  },
  "language_info": {
   "codemirror_mode": {
    "name": "ipython",
    "version": 3
   },
   "file_extension": ".py",
   "mimetype": "text/x-python",
   "name": "python",
   "nbconvert_exporter": "python",
   "pygments_lexer": "ipython3",
   "version": "3.9.13"
  }
 },
 "nbformat": 4,
 "nbformat_minor": 5
}
