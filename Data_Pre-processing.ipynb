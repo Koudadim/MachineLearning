{
 "cells": [
  {
   "cell_type": "markdown",
   "id": "ee3b60a0",
   "metadata": {},
   "source": [
    "# LE PRE-TRAITEMENT (PRE-PROCESSING) "
   ]
  },
  {
   "cell_type": "markdown",
   "id": "c1002953",
   "metadata": {},
   "source": [
    "Le pre-processing est la préparation (nettoyage, filtrage, normalisation, ...) des données avant leur utilisation pour l'entrainement d'un modèle."
   ]
  },
  {
   "cell_type": "raw",
   "id": "645e8152",
   "metadata": {},
   "source": [
    "Les opérations de pre-processing sont :\n",
    "    * L'encodage : conversion de données qualitatives en données numériques\n",
    "        module : sklearn.preprocessing\n",
    "    * La normalisation : mise sur une même échelle de toutes les variables quantitatives.\n",
    "        module : sklearn.preprocessing\n",
    "    * L'imputation : remplacement de données manquantes par certaines valeurs statisques\n",
    "        module : sklearn.impute\n",
    "    * La sélection des variables : choix des variables les plus utiles pour l'analyse en se basant sur des tests statisques\n",
    "        module : sklearn.feature_selection\n",
    "    * L'extraction de variables : génération de nouvelles variables à partir d'informations cachées dans le dataset\n",
    "        module : sklearn.feature_extraction"
   ]
  },
  {
   "cell_type": "markdown",
   "id": "81f9f746",
   "metadata": {},
   "source": [
    "### Le 'transformer'"
   ]
  },
  {
   "cell_type": "raw",
   "id": "5d9a0382",
   "metadata": {},
   "source": [
    "Les transformer permettent de transformer les train set et test set de la même mannière. Ils conprennent deux méthodes:\n",
    "    1. fit(train_set) : developpe une fonction de transformation des données à partir de train_set\n",
    "    2. transform(data) : applique la transformation sur toutes les données data\n",
    "    3. fit_transform(data) combine les deux méthodes précédentes"
   ]
  },
  {
   "cell_type": "code",
   "execution_count": 1,
   "id": "cc9e60fc",
   "metadata": {},
   "outputs": [],
   "source": [
    "import numpy as np\n",
    "from sklearn.preprocessing import LabelEncoder\n",
    "# LabelEncoder est seulement adapté aux tableaux à une dimension"
   ]
  },
  {
   "cell_type": "code",
   "execution_count": 10,
   "id": "16574d24",
   "metadata": {},
   "outputs": [],
   "source": [
    "Y = np.array(['Chat', 'Chien', 'Oiseau', 'Chien', 'Chat'])"
   ]
  },
  {
   "cell_type": "code",
   "execution_count": 11,
   "id": "a5890ce6",
   "metadata": {},
   "outputs": [
    {
     "data": {
      "text/plain": [
       "LabelEncoder()"
      ]
     },
     "execution_count": 11,
     "metadata": {},
     "output_type": "execute_result"
    }
   ],
   "source": [
    "transformer = LabelEncoder()\n",
    "transformer.fit(Y)"
   ]
  },
  {
   "cell_type": "code",
   "execution_count": 12,
   "id": "2b9e0b87",
   "metadata": {},
   "outputs": [
    {
     "data": {
      "text/plain": [
       "array([0, 1, 2, 1, 0])"
      ]
     },
     "execution_count": 12,
     "metadata": {},
     "output_type": "execute_result"
    }
   ],
   "source": [
    "transformer.transform(Y)"
   ]
  },
  {
   "cell_type": "code",
   "execution_count": 14,
   "id": "d72286f3",
   "metadata": {},
   "outputs": [
    {
     "data": {
      "text/plain": [
       "array([0, 1, 2, 1, 0], dtype=int64)"
      ]
     },
     "execution_count": 14,
     "metadata": {},
     "output_type": "execute_result"
    }
   ],
   "source": [
    "transformer.fit_transform(Y)"
   ]
  },
  {
   "cell_type": "markdown",
   "id": "bab184b7",
   "metadata": {},
   "source": [
    "Une pipeline est une chaine de transformation combinant un transformer et un estimateur obtenus à partir de train set"
   ]
  },
  {
   "cell_type": "markdown",
   "id": "2bfb4a98",
   "metadata": {},
   "source": [
    "### L'encodage : les transformer du pre-processing"
   ]
  },
  {
   "cell_type": "raw",
   "id": "9c07d6e7",
   "metadata": {},
   "source": [
    "Cinq types de transformer :\n",
    "    1. preprocessing.LabelBinarizer([neg_label, ...])\n",
    "    2. preprocessing.LabelEncoder()\n",
    "    3. preprocessing.MultiLabelBinarizer([classes, ...])\n",
    "    4. preprocessing.OneHotEncoder([categories, ...])\n",
    "    5. preprocessing.OrdinalEncoder([categories, dtype])"
   ]
  },
  {
   "cell_type": "raw",
   "id": "28534138",
   "metadata": {},
   "source": [
    "Deux types d'encodages :\n",
    "    1. Ordinal : associe chaque catégorie ou classe d'une variable à un décimal unique. \n",
    "        Inconevient : suppose un ordre entre les facteurs alors qu'il n'y en a pas\n",
    "        Encoders : OrdinalEncoder([categories, dtype]), LabelEncoder()\n",
    "    2. One-Hot : alternative de l'encodage ordinal. Chaque chatégorie ou classe est représentée dans une colonne qui lui\n",
    "    est propre. Il crée autant de colonne qu'il y a de classes, ce qui élimine toute possibilité de comparaison entre les \n",
    "    classes par les algorithmes de machine learning.\n",
    "        Encoders : LabelBinarizer([neg_label, ...]), MultiLabelBinarizer([classes, ...]), OneHotEncoder([categories, ...])"
   ]
  },
  {
   "cell_type": "markdown",
   "id": "f51d7a1a",
   "metadata": {},
   "source": [
    "La méthode 'inverse_transform' permet de décodr des données encodées"
   ]
  },
  {
   "cell_type": "code",
   "execution_count": 9,
   "id": "c852fc3e",
   "metadata": {},
   "outputs": [],
   "source": [
    "y = np.array(['chat', 'chien', 'chat', 'oiseau'])"
   ]
  },
  {
   "cell_type": "code",
   "execution_count": 10,
   "id": "be64864a",
   "metadata": {},
   "outputs": [
    {
     "data": {
      "text/plain": [
       "LabelEncoder()"
      ]
     },
     "execution_count": 10,
     "metadata": {},
     "output_type": "execute_result"
    }
   ],
   "source": [
    "encoder = LabelEncoder()\n",
    "encoder.fit(y)"
   ]
  },
  {
   "cell_type": "code",
   "execution_count": 11,
   "id": "9d94dd5e",
   "metadata": {},
   "outputs": [
    {
     "data": {
      "text/plain": [
       "array([0, 1, 0, 2])"
      ]
     },
     "execution_count": 11,
     "metadata": {},
     "output_type": "execute_result"
    }
   ],
   "source": [
    "encoder.transform(y)"
   ]
  },
  {
   "cell_type": "code",
   "execution_count": 12,
   "id": "251fe3ff",
   "metadata": {},
   "outputs": [
    {
     "data": {
      "text/plain": [
       "array([0, 1, 0, 2], dtype=int64)"
      ]
     },
     "execution_count": 12,
     "metadata": {},
     "output_type": "execute_result"
    }
   ],
   "source": [
    "encoder.fit_transform(y)"
   ]
  },
  {
   "cell_type": "code",
   "execution_count": 13,
   "id": "5d829ebb",
   "metadata": {},
   "outputs": [
    {
     "data": {
      "text/plain": [
       "array(['chat', 'chien', 'oiseau'], dtype='<U6')"
      ]
     },
     "execution_count": 13,
     "metadata": {},
     "output_type": "execute_result"
    }
   ],
   "source": [
    "encoder.classes_"
   ]
  },
  {
   "cell_type": "code",
   "execution_count": 15,
   "id": "6a5bbc36",
   "metadata": {},
   "outputs": [
    {
     "data": {
      "text/plain": [
       "array(['chien', 'chat', 'oiseau', 'chien', 'chat'], dtype='<U6')"
      ]
     },
     "execution_count": 15,
     "metadata": {},
     "output_type": "execute_result"
    }
   ],
   "source": [
    "encoder.inverse_transform(np.array([1, 0, 2, 1, 0]))"
   ]
  },
  {
   "cell_type": "markdown",
   "id": "af143eca",
   "metadata": {},
   "source": [
    "Pour encoder des données d'un tableau de dimension 2, on utilise 'OrdinalEncoder'"
   ]
  },
  {
   "cell_type": "code",
   "execution_count": 16,
   "id": "7d788638",
   "metadata": {},
   "outputs": [],
   "source": [
    "from sklearn.preprocessing import OrdinalEncoder"
   ]
  },
  {
   "cell_type": "code",
   "execution_count": 18,
   "id": "cf691f84",
   "metadata": {},
   "outputs": [],
   "source": [
    "x = np.array([['chat', 'mammifère'],\n",
    "            ['chien', 'carnivore'],\n",
    "            ['chat', 'mammifère'],\n",
    "            ['aigle', 'oiseau'],\n",
    "            ['vautour', 'oiseau']])"
   ]
  },
  {
   "cell_type": "code",
   "execution_count": 19,
   "id": "8f5b6c60",
   "metadata": {},
   "outputs": [
    {
     "data": {
      "text/plain": [
       "array([[1., 1.],\n",
       "       [2., 0.],\n",
       "       [1., 1.],\n",
       "       [0., 2.],\n",
       "       [3., 2.]])"
      ]
     },
     "execution_count": 19,
     "metadata": {},
     "output_type": "execute_result"
    }
   ],
   "source": [
    "o_encoder = OrdinalEncoder()\n",
    "o_encoder.fit_transform(x)"
   ]
  },
  {
   "cell_type": "code",
   "execution_count": 2,
   "id": "1030c63b",
   "metadata": {},
   "outputs": [],
   "source": [
    "from sklearn.preprocessing import LabelBinarizer, OneHotEncoder"
   ]
  },
  {
   "cell_type": "code",
   "execution_count": 22,
   "id": "e29353eb",
   "metadata": {},
   "outputs": [
    {
     "data": {
      "text/plain": [
       "array([[1, 0, 0],\n",
       "       [0, 1, 0],\n",
       "       [1, 0, 0],\n",
       "       [0, 0, 1]])"
      ]
     },
     "execution_count": 22,
     "metadata": {},
     "output_type": "execute_result"
    }
   ],
   "source": [
    "b_encoder = LabelBinarizer()\n",
    "b_encoder.fit_transform(y)"
   ]
  },
  {
   "cell_type": "code",
   "execution_count": 24,
   "id": "b7a973c5",
   "metadata": {},
   "outputs": [
    {
     "name": "stdout",
     "output_type": "stream",
     "text": [
      "  (0, 0)\t1\n",
      "  (1, 1)\t1\n",
      "  (2, 0)\t1\n",
      "  (3, 2)\t1\n"
     ]
    }
   ],
   "source": [
    "b_encoder = LabelBinarizer(sparse_output=True)\n",
    "print(b_encoder.fit_transform(y))\n",
    "# Des tableaux à une dimension sont créés pour contenir les valeurs non nulles de la matrice \n",
    "# d'encodage, ainsi que leurs positions dans cette matrice"
   ]
  },
  {
   "cell_type": "code",
   "execution_count": 27,
   "id": "92b7afdd",
   "metadata": {},
   "outputs": [
    {
     "data": {
      "text/plain": [
       "<5x7 sparse matrix of type '<class 'numpy.float64'>'\n",
       "\twith 10 stored elements in Compressed Sparse Row format>"
      ]
     },
     "execution_count": 27,
     "metadata": {},
     "output_type": "execute_result"
    }
   ],
   "source": [
    "oh_encoder = OneHotEncoder()\n",
    "oh_encoder.fit_transform(x)"
   ]
  },
  {
   "cell_type": "code",
   "execution_count": 28,
   "id": "26847efe",
   "metadata": {},
   "outputs": [
    {
     "name": "stdout",
     "output_type": "stream",
     "text": [
      "  (0, 1)\t1.0\n",
      "  (0, 5)\t1.0\n",
      "  (1, 2)\t1.0\n",
      "  (1, 4)\t1.0\n",
      "  (2, 1)\t1.0\n",
      "  (2, 5)\t1.0\n",
      "  (3, 0)\t1.0\n",
      "  (3, 6)\t1.0\n",
      "  (4, 3)\t1.0\n",
      "  (4, 6)\t1.0\n"
     ]
    }
   ],
   "source": [
    "print(oh_encoder.fit_transform(x))"
   ]
  },
  {
   "cell_type": "markdown",
   "id": "4345605a",
   "metadata": {},
   "source": [
    "### La normalisation"
   ]
  },
  {
   "cell_type": "raw",
   "id": "3555e072",
   "metadata": {},
   "source": [
    "En data science il est très crucial de normaliser les données quantitatives, c'est-à-dire, les mettres dur une même échelle. Cela facilite l'apprentissage de la machine."
   ]
  },
  {
   "cell_type": "raw",
   "id": "28649690",
   "metadata": {},
   "source": [
    "Trois types de normalisation :\n",
    "\n",
    "    1. preprocessing.MinMaxScaler([feature_range, copy]) : chaque variable de x est transformée de sorte que ses valeurs\n",
    "    soient entre 0 et 1.; (x - x_min) / (x_max - x_min); grande sensibilité aux outlers\n",
    "    \n",
    "    2. preprocessing.Robustscaler([with_centerin, ...]) : (x - median) / IQR; très peu sensible aux valeurs aberrantes.\n",
    "    \n",
    "    3. preprocessing.StandardScaler([copy, ...]) : (x - mean(x)) / std(x); grande sensibilité aux outlers"
   ]
  },
  {
   "cell_type": "code",
   "execution_count": 15,
   "id": "3e45f780",
   "metadata": {},
   "outputs": [],
   "source": [
    "from sklearn.preprocessing import MinMaxScaler, StandardScaler,  RobustScaler"
   ]
  },
  {
   "cell_type": "code",
   "execution_count": 17,
   "id": "67e77a55",
   "metadata": {},
   "outputs": [],
   "source": [
    "x = np.array([[80], [100], [70], [145]])"
   ]
  },
  {
   "cell_type": "code",
   "execution_count": 39,
   "id": "69970c1c",
   "metadata": {},
   "outputs": [
    {
     "data": {
      "text/plain": [
       "array([[0.13333333],\n",
       "       [0.4       ],\n",
       "       [0.        ],\n",
       "       [1.        ]])"
      ]
     },
     "execution_count": 39,
     "metadata": {},
     "output_type": "execute_result"
    }
   ],
   "source": [
    "MMS = MinMaxScaler()\n",
    "MMS.fit_transform(x)"
   ]
  },
  {
   "cell_type": "code",
   "execution_count": 41,
   "id": "9040ce02",
   "metadata": {},
   "outputs": [
    {
     "data": {
      "text/plain": [
       "array([[107.5],\n",
       "       [137.5]])"
      ]
     },
     "execution_count": 41,
     "metadata": {},
     "output_type": "execute_result"
    }
   ],
   "source": [
    "# Pour remettre une prédiction à son échelle initiale, on utilise inverse_transform\n",
    "MMS.inverse_transform(np.array([[0.5], [0.9]]))"
   ]
  },
  {
   "cell_type": "code",
   "execution_count": 44,
   "id": "eadded14",
   "metadata": {},
   "outputs": [
    {
     "data": {
      "text/plain": [
       "array([[-0.65094455],\n",
       "       [ 0.0433963 ],\n",
       "       [-0.99811498],\n",
       "       [ 1.60566324]])"
      ]
     },
     "execution_count": 44,
     "metadata": {},
     "output_type": "execute_result"
    }
   ],
   "source": [
    "StandardScaler().fit_transform(x)"
   ]
  },
  {
   "cell_type": "code",
   "execution_count": 46,
   "id": "7a5a0fba",
   "metadata": {},
   "outputs": [
    {
     "data": {
      "text/plain": [
       "array([[-0.2962963 ],\n",
       "       [ 0.2962963 ],\n",
       "       [-0.59259259],\n",
       "       [ 1.62962963]])"
      ]
     },
     "execution_count": 46,
     "metadata": {},
     "output_type": "execute_result"
    }
   ],
   "source": [
    "RobustScaler().fit_transform(x)"
   ]
  },
  {
   "cell_type": "code",
   "execution_count": 18,
   "id": "a2a14a29",
   "metadata": {},
   "outputs": [
    {
     "data": {
      "text/plain": [
       "array([[ 80],\n",
       "       [100],\n",
       "       [ 70],\n",
       "       [145]])"
      ]
     },
     "execution_count": 18,
     "metadata": {},
     "output_type": "execute_result"
    }
   ],
   "source": [
    "x"
   ]
  },
  {
   "cell_type": "markdown",
   "id": "7c56a1aa",
   "metadata": {},
   "source": [
    "### Polynomial features"
   ]
  },
  {
   "cell_type": "raw",
   "id": "ea254205",
   "metadata": {},
   "source": [
    "Les polynomial features sont des transformer qui permettent de faire du feature engineering (construction de varaibles polynômiales à partir des variables existantes). Cela permet de développer des modèles de machine learning plus riches et plus sophistiqués."
   ]
  },
  {
   "cell_type": "code",
   "execution_count": 4,
   "id": "9f9d5ed2",
   "metadata": {},
   "outputs": [],
   "source": [
    "from sklearn.linear_model import LinearRegression\n",
    "import matplotlib.pyplot as plt"
   ]
  },
  {
   "cell_type": "code",
   "execution_count": 54,
   "id": "6eac19ac",
   "metadata": {},
   "outputs": [
    {
     "data": {
      "image/png": "[encoded data removed]",
      "text/plain": [
       "<Figure size 640x480 with 1 Axes>"
      ]
     },
     "metadata": {},
     "output_type": "display_data"
    }
   ],
   "source": [
    "np.random.seed(0)\n",
    "x = np.linspace(0, 4, 100).reshape((100, 1))\n",
    "y = x**2 + 5*np.cos(x) + np.random.randn(100, 1)\n",
    "\n",
    "plt.scatter(x, y, label = 'Scatter plot')\n",
    "\n",
    "model = LinearRegression().fit(x, y)\n",
    "y_pred = model.predict(x)\n",
    "\n",
    "plt.plot(x, y_pred, c = 'r', lw = 3, label = 'Linear regression line')\n",
    "\n",
    "plt.legend()\n",
    "\n",
    "plt.show()"
   ]
  },
  {
   "cell_type": "code",
   "execution_count": 5,
   "id": "ecc606d1",
   "metadata": {},
   "outputs": [],
   "source": [
    "from sklearn.preprocessing import PolynomialFeatures"
   ]
  },
  {
   "cell_type": "code",
   "execution_count": 56,
   "id": "d0f75a3c",
   "metadata": {},
   "outputs": [
    {
     "data": {
      "image/png": "[encoded data removed]",
      "text/plain": [
       "<Figure size 640x480 with 1 Axes>"
      ]
     },
     "metadata": {},
     "output_type": "display_data"
    }
   ],
   "source": [
    "x_pol = PolynomialFeatures(3).fit_transform(x) # un polynôme de dégré 3 construit sur x\n",
    "\n",
    "plt.scatter(x, y, label = 'Scatter plot')\n",
    "model = LinearRegression().fit(x_pol, y)\n",
    "y_pred = model.predict(x_pol)\n",
    "plt.plot(x, y_pred, c = 'r', lw = 3, label = 'Linear regression line')\n",
    "\n",
    "plt.legend()\n",
    "\n",
    "plt.show()"
   ]
  },
  {
   "cell_type": "raw",
   "id": "e0c525f2",
   "metadata": {},
   "source": [
    "Dans le cas où l'on dispose de plusieurs variables, une combinaison possible de toutes ces variables sera effectuée afin de créer un polynôme.\n",
    "Il faut toujours normaliser les données après avoir utilisé PolynomialFeatures"
   ]
  },
  {
   "cell_type": "markdown",
   "id": "1c6914da",
   "metadata": {},
   "source": [
    "### Les transformer non linéaires"
   ]
  },
  {
   "cell_type": "raw",
   "id": "d3a244c3",
   "metadata": {},
   "source": [
    "Deux transformer non linéaires :\n",
    "    PowerTransformer([method, ...])\n",
    "    QantileTransformer([...])\n",
    "\n",
    "Les transformations non linéaire vise à rendre les données normales."
   ]
  },
  {
   "cell_type": "code",
   "execution_count": 6,
   "id": "c7820fff",
   "metadata": {},
   "outputs": [],
   "source": [
    "from sklearn.preprocessing import PowerTransformer"
   ]
  },
  {
   "cell_type": "code",
   "execution_count": 61,
   "id": "95f24435",
   "metadata": {},
   "outputs": [],
   "source": [
    "np.random.seed(0)\n",
    "x = np.random.rand(100, 2) + np.random.randn(100, 2)\n",
    "x_PT = PowerTransformer().fit_transform(x)"
   ]
  },
  {
   "cell_type": "code",
   "execution_count": 65,
   "id": "678cdb15",
   "metadata": {},
   "outputs": [
    {
     "data": {
      "image/png": "[encoded data removed]",
      "text/plain": [
       "<Figure size 640x480 with 1 Axes>"
      ]
     },
     "metadata": {},
     "output_type": "display_data"
    }
   ],
   "source": [
    "plt.hist(x[:,0], bins = 30, alpha = 0.8, label = 'Original')\n",
    "plt.hist(x_PT[:,0], bins = 30, alpha = 0.8, label = 'Power Transformation')\n",
    "plt.legend()\n",
    "plt.show()"
   ]
  },
  {
   "cell_type": "markdown",
   "id": "40c4ac7a",
   "metadata": {},
   "source": [
    "### Discrétisation de variables continues"
   ]
  },
  {
   "cell_type": "code",
   "execution_count": 57,
   "id": "6551dbfa",
   "metadata": {},
   "outputs": [],
   "source": [
    "from sklearn.preprocessing import Binarizer, KBinsDiscretizer"
   ]
  },
  {
   "cell_type": "code",
   "execution_count": 67,
   "id": "e9a94f22",
   "metadata": {},
   "outputs": [
    {
     "data": {
      "text/plain": [
       "array([[0.        ],\n",
       "       [0.55555556],\n",
       "       [1.11111111],\n",
       "       [1.66666667],\n",
       "       [2.22222222],\n",
       "       [2.77777778],\n",
       "       [3.33333333],\n",
       "       [3.88888889],\n",
       "       [4.44444444],\n",
       "       [5.        ]])"
      ]
     },
     "execution_count": 67,
     "metadata": {},
     "output_type": "execute_result"
    }
   ],
   "source": [
    "x = np.linspace(0, 5, 10).reshape(10, 1)\n",
    "x"
   ]
  },
  {
   "cell_type": "code",
   "execution_count": 69,
   "id": "b6b2da0b",
   "metadata": {},
   "outputs": [
    {
     "data": {
      "text/plain": [
       "array([[0.        , 0.        ],\n",
       "       [0.55555556, 0.        ],\n",
       "       [1.11111111, 0.        ],\n",
       "       [1.66666667, 0.        ],\n",
       "       [2.22222222, 0.        ],\n",
       "       [2.77777778, 0.        ],\n",
       "       [3.33333333, 1.        ],\n",
       "       [3.88888889, 1.        ],\n",
       "       [4.44444444, 1.        ],\n",
       "       [5.        , 1.        ]])"
      ]
     },
     "execution_count": 69,
     "metadata": {},
     "output_type": "execute_result"
    }
   ],
   "source": [
    "np.hstack((x, Binarizer(threshold = 3).fit_transform(x)))"
   ]
  },
  {
   "cell_type": "code",
   "execution_count": 73,
   "id": "75825db9",
   "metadata": {},
   "outputs": [],
   "source": [
    "KB = KBinsDiscretizer(n_bins = 6).fit_transform(x)"
   ]
  },
  {
   "cell_type": "code",
   "execution_count": 75,
   "id": "cc459a3e",
   "metadata": {},
   "outputs": [
    {
     "data": {
      "text/plain": [
       "array([[1., 0., 0., 0., 0., 0.],\n",
       "       [1., 0., 0., 0., 0., 0.],\n",
       "       [0., 1., 0., 0., 0., 0.],\n",
       "       [0., 0., 1., 0., 0., 0.],\n",
       "       [0., 0., 1., 0., 0., 0.],\n",
       "       [0., 0., 0., 1., 0., 0.],\n",
       "       [0., 0., 0., 0., 1., 0.],\n",
       "       [0., 0., 0., 0., 1., 0.],\n",
       "       [0., 0., 0., 0., 0., 1.],\n",
       "       [0., 0., 0., 0., 0., 1.]])"
      ]
     },
     "execution_count": 75,
     "metadata": {},
     "output_type": "execute_result"
    }
   ],
   "source": [
    "KB.toarray()"
   ]
  },
  {
   "cell_type": "markdown",
   "id": "d836fb3a",
   "metadata": {},
   "source": [
    "### Les 'pipeline's"
   ]
  },
  {
   "cell_type": "markdown",
   "id": "1481b2b4",
   "metadata": {},
   "source": [
    "Application"
   ]
  },
  {
   "cell_type": "code",
   "execution_count": 7,
   "id": "d27c7246",
   "metadata": {},
   "outputs": [],
   "source": [
    "from sklearn.model_selection import train_test_split\n",
    "from sklearn.linear_model import SGDClassifier\n",
    "from sklearn.datasets import load_iris"
   ]
  },
  {
   "cell_type": "code",
   "execution_count": 103,
   "id": "6f274e94",
   "metadata": {},
   "outputs": [],
   "source": [
    "iris = load_iris()\n",
    "x = iris.data\n",
    "y = iris.target\n",
    "\n",
    "x_train, x_test,  y_train, y_test = train_test_split(x, y, test_size=0.2 )"
   ]
  },
  {
   "cell_type": "markdown",
   "id": "26ba4ea5",
   "metadata": {},
   "source": [
    "Performance du modèle sans pre-processing"
   ]
  },
  {
   "cell_type": "code",
   "execution_count": 104,
   "id": "4af90481",
   "metadata": {},
   "outputs": [
    {
     "data": {
      "text/plain": [
       "0.9"
      ]
     },
     "execution_count": 104,
     "metadata": {},
     "output_type": "execute_result"
    }
   ],
   "source": [
    "model = SGDClassifier(random_state=0)\n",
    "model.fit(x_train, y_train)\n",
    "model.score(x_test, y_test)"
   ]
  },
  {
   "cell_type": "markdown",
   "id": "9a3ce659",
   "metadata": {},
   "source": [
    "Performance du modèle avec pre-processing"
   ]
  },
  {
   "cell_type": "code",
   "execution_count": 88,
   "id": "fa7cd77c",
   "metadata": {},
   "outputs": [
    {
     "data": {
      "text/plain": [
       "array([0, 0, 0, 0, 2, 2, 1, 1, 2, 2, 2, 0, 0, 0, 0, 0, 1, 2, 0, 0, 0, 0,\n",
       "       2, 2, 1, 0, 2, 1, 2, 1])"
      ]
     },
     "execution_count": 88,
     "metadata": {},
     "output_type": "execute_result"
    }
   ],
   "source": [
    "# Transformer\n",
    "\n",
    "scaler = StandardScaler()\n",
    "x_train_normalized = scaler.fit_transform(x_train)\n",
    "\n",
    "# Estimator\n",
    "\n",
    "model = SGDClassifier(random_state=0)\n",
    "model.fit(x_train_normalized, y_train)\n",
    "\n",
    "# Test\n",
    "x_test_normalized = scaler.fit_transform(x_test)\n",
    "model.predict(x_test_normalized)"
   ]
  },
  {
   "cell_type": "markdown",
   "id": "8d29f370",
   "metadata": {},
   "source": [
    "On peut combiner transform et estimator en une seule méthode appelée pipeline"
   ]
  },
  {
   "cell_type": "code",
   "execution_count": 8,
   "id": "92b4c2c4",
   "metadata": {},
   "outputs": [],
   "source": [
    "from sklearn.pipeline import make_pipeline"
   ]
  },
  {
   "cell_type": "code",
   "execution_count": 93,
   "id": "1ce6c9e8",
   "metadata": {},
   "outputs": [
    {
     "data": {
      "text/plain": [
       "array([0, 0, 0, 0, 2, 1, 1, 1, 2, 1, 2, 0, 0, 0, 0, 0, 1, 1, 0, 0, 0, 0,\n",
       "       2, 1, 1, 0, 1, 1, 2, 1])"
      ]
     },
     "execution_count": 93,
     "metadata": {},
     "output_type": "execute_result"
    }
   ],
   "source": [
    "model = make_pipeline(StandardScaler(), SGDClassifier())\n",
    "model.fit(x_train, y_train)\n",
    "model.predict(x_test)"
   ]
  },
  {
   "cell_type": "raw",
   "id": "d66f6f5f",
   "metadata": {},
   "source": [
    "On obtient les mêmes résultats que précédemment"
   ]
  },
  {
   "cell_type": "raw",
   "id": "cc8cc0ec",
   "metadata": {},
   "source": [
    "Avantages liés au pipeline :\n",
    "    1. Facilité d'utilisation\n",
    "    2. Evitement de la mauvaise transformation des données ou la perte de données\n",
    "    3. Présence d'opérations de cross-validation"
   ]
  },
  {
   "cell_type": "raw",
   "id": "2a40c3dc",
   "metadata": {},
   "source": [
    "Usage de GridSearchCV pour déterminer les meilleurs paramètres d'une pipeline :\n",
    "    1. grid = GridSearchCV(pipeline, params, cv)\n",
    "    params = {\n",
    "        'composants__paramètres' : []\n",
    "    }\n",
    "    2. grid.fit(x_train, y_train)\n",
    "    3. gid.best_estimator"
   ]
  },
  {
   "cell_type": "code",
   "execution_count": 9,
   "id": "e6f46bc1",
   "metadata": {},
   "outputs": [],
   "source": [
    "from sklearn.model_selection import GridSearchCV"
   ]
  },
  {
   "cell_type": "code",
   "execution_count": 95,
   "id": "97deab61",
   "metadata": {},
   "outputs": [
    {
     "data": {
      "text/plain": [
       "Pipeline(steps=[('polynomialfeatures', PolynomialFeatures()),\n",
       "                ('standardscaler', StandardScaler()),\n",
       "                ('sgdclassifier', SGDClassifier(random_state=0))])"
      ]
     },
     "execution_count": 95,
     "metadata": {},
     "output_type": "execute_result"
    }
   ],
   "source": [
    "model = make_pipeline(PolynomialFeatures(),\n",
    "                     StandardScaler(),\n",
    "                     SGDClassifier(random_state=0))\n",
    "model"
   ]
  },
  {
   "cell_type": "code",
   "execution_count": 101,
   "id": "d08c803e",
   "metadata": {},
   "outputs": [
    {
     "data": {
      "text/plain": [
       "GridSearchCV(cv=4,\n",
       "             estimator=Pipeline(steps=[('polynomialfeatures',\n",
       "                                        PolynomialFeatures()),\n",
       "                                       ('standardscaler', StandardScaler()),\n",
       "                                       ('sgdclassifier',\n",
       "                                        SGDClassifier(random_state=0))]),\n",
       "             param_grid={'polynomialfeatures__degree': [2, 3, 4],\n",
       "                         'sgdclassifier__penalty': ['l1', 'l2']})"
      ]
     },
     "execution_count": 101,
     "metadata": {},
     "output_type": "execute_result"
    }
   ],
   "source": [
    "params = {\n",
    "    'polynomialfeatures__degree': [2,3,4],\n",
    "    'sgdclassifier__penalty': ['l1', 'l2']\n",
    "}\n",
    "\n",
    "grid = GridSearchCV(model, param_grid=params, cv=4)\n",
    "grid.fit(x_train, y_train)"
   ]
  },
  {
   "cell_type": "code",
   "execution_count": 102,
   "id": "547053f7",
   "metadata": {},
   "outputs": [
    {
     "data": {
      "text/plain": [
       "0.9666666666666667"
      ]
     },
     "execution_count": 102,
     "metadata": {},
     "output_type": "execute_result"
    }
   ],
   "source": [
    "grid.score(x_test, y_test)"
   ]
  },
  {
   "cell_type": "raw",
   "id": "4defd0d6",
   "metadata": {},
   "source": [
    "Quel est le meilleur transformer pour le dataset d'iris ?"
   ]
  },
  {
   "cell_type": "markdown",
   "id": "12c61ffa",
   "metadata": {},
   "source": [
    "### Développement de pipelines avancées avec sklearn"
   ]
  },
  {
   "cell_type": "raw",
   "id": "6f018de7",
   "metadata": {},
   "source": [
    "Les pipelines avancées permettront de traiter des dataset hétérogènes c'est-à-dire, présentant différents types de variables (variables discret, continue, qualitative, ...). Les fonctions les plus utilisées sont :\n",
    "    1. make_column_transformer\n",
    "    2. make_column_selector\n",
    "    3. make_union"
   ]
  },
  {
   "cell_type": "code",
   "execution_count": 19,
   "id": "c776f2a0",
   "metadata": {},
   "outputs": [],
   "source": [
    "import seaborn as sns"
   ]
  },
  {
   "cell_type": "code",
   "execution_count": 21,
   "id": "541a926e",
   "metadata": {},
   "outputs": [
    {
     "data": {
      "text/html": [
       "<div>\n",
       "<style scoped>\n",
       "    .dataframe tbody tr th:only-of-type {\n",
       "        vertical-align: middle;\n",
       "    }\n",
       "\n",
       "    .dataframe tbody tr th {\n",
       "        vertical-align: top;\n",
       "    }\n",
       "\n",
       "    .dataframe thead th {\n",
       "        text-align: right;\n",
       "    }\n",
       "</style>\n",
       "<table border=\"1\" class=\"dataframe\">\n",
       "  <thead>\n",
       "    <tr style=\"text-align: right;\">\n",
       "      <th></th>\n",
       "      <th>survived</th>\n",
       "      <th>pclass</th>\n",
       "      <th>sex</th>\n",
       "      <th>age</th>\n",
       "      <th>sibsp</th>\n",
       "      <th>parch</th>\n",
       "      <th>fare</th>\n",
       "      <th>embarked</th>\n",
       "      <th>class</th>\n",
       "      <th>who</th>\n",
       "      <th>adult_male</th>\n",
       "      <th>deck</th>\n",
       "      <th>embark_town</th>\n",
       "      <th>alive</th>\n",
       "      <th>alone</th>\n",
       "    </tr>\n",
       "  </thead>\n",
       "  <tbody>\n",
       "    <tr>\n",
       "      <th>0</th>\n",
       "      <td>0</td>\n",
       "      <td>3</td>\n",
       "      <td>male</td>\n",
       "      <td>22.0</td>\n",
       "      <td>1</td>\n",
       "      <td>0</td>\n",
       "      <td>7.2500</td>\n",
       "      <td>S</td>\n",
       "      <td>Third</td>\n",
       "      <td>man</td>\n",
       "      <td>True</td>\n",
       "      <td>NaN</td>\n",
       "      <td>Southampton</td>\n",
       "      <td>no</td>\n",
       "      <td>False</td>\n",
       "    </tr>\n",
       "    <tr>\n",
       "      <th>1</th>\n",
       "      <td>1</td>\n",
       "      <td>1</td>\n",
       "      <td>female</td>\n",
       "      <td>38.0</td>\n",
       "      <td>1</td>\n",
       "      <td>0</td>\n",
       "      <td>71.2833</td>\n",
       "      <td>C</td>\n",
       "      <td>First</td>\n",
       "      <td>woman</td>\n",
       "      <td>False</td>\n",
       "      <td>C</td>\n",
       "      <td>Cherbourg</td>\n",
       "      <td>yes</td>\n",
       "      <td>False</td>\n",
       "    </tr>\n",
       "    <tr>\n",
       "      <th>2</th>\n",
       "      <td>1</td>\n",
       "      <td>3</td>\n",
       "      <td>female</td>\n",
       "      <td>26.0</td>\n",
       "      <td>0</td>\n",
       "      <td>0</td>\n",
       "      <td>7.9250</td>\n",
       "      <td>S</td>\n",
       "      <td>Third</td>\n",
       "      <td>woman</td>\n",
       "      <td>False</td>\n",
       "      <td>NaN</td>\n",
       "      <td>Southampton</td>\n",
       "      <td>yes</td>\n",
       "      <td>True</td>\n",
       "    </tr>\n",
       "    <tr>\n",
       "      <th>3</th>\n",
       "      <td>1</td>\n",
       "      <td>1</td>\n",
       "      <td>female</td>\n",
       "      <td>35.0</td>\n",
       "      <td>1</td>\n",
       "      <td>0</td>\n",
       "      <td>53.1000</td>\n",
       "      <td>S</td>\n",
       "      <td>First</td>\n",
       "      <td>woman</td>\n",
       "      <td>False</td>\n",
       "      <td>C</td>\n",
       "      <td>Southampton</td>\n",
       "      <td>yes</td>\n",
       "      <td>False</td>\n",
       "    </tr>\n",
       "    <tr>\n",
       "      <th>4</th>\n",
       "      <td>0</td>\n",
       "      <td>3</td>\n",
       "      <td>male</td>\n",
       "      <td>35.0</td>\n",
       "      <td>0</td>\n",
       "      <td>0</td>\n",
       "      <td>8.0500</td>\n",
       "      <td>S</td>\n",
       "      <td>Third</td>\n",
       "      <td>man</td>\n",
       "      <td>True</td>\n",
       "      <td>NaN</td>\n",
       "      <td>Southampton</td>\n",
       "      <td>no</td>\n",
       "      <td>True</td>\n",
       "    </tr>\n",
       "  </tbody>\n",
       "</table>\n",
       "</div>"
      ],
      "text/plain": [
       "   survived  pclass     sex   age  sibsp  parch     fare embarked  class  \\\n",
       "0         0       3    male  22.0      1      0   7.2500        S  Third   \n",
       "1         1       1  female  38.0      1      0  71.2833        C  First   \n",
       "2         1       3  female  26.0      0      0   7.9250        S  Third   \n",
       "3         1       1  female  35.0      1      0  53.1000        S  First   \n",
       "4         0       3    male  35.0      0      0   8.0500        S  Third   \n",
       "\n",
       "     who  adult_male deck  embark_town alive  alone  \n",
       "0    man        True  NaN  Southampton    no  False  \n",
       "1  woman       False    C    Cherbourg   yes  False  \n",
       "2  woman       False  NaN  Southampton   yes   True  \n",
       "3  woman       False    C  Southampton   yes  False  \n",
       "4    man        True  NaN  Southampton    no   True  "
      ]
     },
     "execution_count": 21,
     "metadata": {},
     "output_type": "execute_result"
    }
   ],
   "source": [
    "titanic = sns.load_dataset('titanic')\n",
    "titanic.head()"
   ]
  },
  {
   "cell_type": "code",
   "execution_count": 23,
   "id": "47f6ab67",
   "metadata": {},
   "outputs": [],
   "source": [
    "y = titanic['survived']\n",
    "x = titanic.drop('survived', axis = 1)"
   ]
  },
  {
   "cell_type": "raw",
   "id": "48321cfa",
   "metadata": {},
   "source": [
    "Certains trannsformers comme StandardScaler ne s'applique qu'à des données numériques. Pour utiliser de tels transformers dans la construction de pipelines, il faudra créer un mécanisme qui permet le tri des colonnes et leur affectation au transformers appropriés. Pour cette action on utilise la fonction make_column_transformer"
   ]
  },
  {
   "cell_type": "code",
   "execution_count": 24,
   "id": "b1df6dac",
   "metadata": {},
   "outputs": [],
   "source": [
    "from sklearn.compose import make_column_transformer"
   ]
  },
  {
   "cell_type": "raw",
   "id": "af983944",
   "metadata": {},
   "source": [
    "Columntransformer permet d'appliquer le transformer sur les colonnes sélectionnnées\n",
    "make_column_transformer((transformer, ['column1', 'column2', ...]))"
   ]
  },
  {
   "cell_type": "code",
   "execution_count": 25,
   "id": "ca6a9c9a",
   "metadata": {},
   "outputs": [],
   "source": [
    "transformer = make_column_transformer((StandardScaler(),\n",
    "                                      ['age', 'fare']))"
   ]
  },
  {
   "cell_type": "code",
   "execution_count": 26,
   "id": "6206eb4b",
   "metadata": {},
   "outputs": [
    {
     "data": {
      "text/plain": [
       "array([[-0.53037664, -0.50244517],\n",
       "       [ 0.57183099,  0.78684529],\n",
       "       [-0.25482473, -0.48885426],\n",
       "       ...,\n",
       "       [        nan, -0.17626324],\n",
       "       [-0.25482473, -0.04438104],\n",
       "       [ 0.15850313, -0.49237783]])"
      ]
     },
     "execution_count": 26,
     "metadata": {},
     "output_type": "execute_result"
    }
   ],
   "source": [
    "transformer.fit_transform(x) # Seules les colonnes age et fare seront utilisées pour l'entrainement"
   ]
  },
  {
   "cell_type": "code",
   "execution_count": 28,
   "id": "b415f721",
   "metadata": {},
   "outputs": [],
   "source": [
    "#model = make_pipeline(transformer, SGDClassifier())\n",
    "#model.fit(x, y)"
   ]
  },
  {
   "cell_type": "markdown",
   "id": "22df321b",
   "metadata": {},
   "source": [
    "Application classique"
   ]
  },
  {
   "cell_type": "code",
   "execution_count": 30,
   "id": "b9ef2cdb",
   "metadata": {},
   "outputs": [],
   "source": [
    "# Séparation des variables entre variables catégorielles et variables numériques\n",
    "numerical_features = ['pclass', 'age', 'fare']\n",
    "categorical_features = ['sex', 'deck', 'alone']"
   ]
  },
  {
   "cell_type": "code",
   "execution_count": 39,
   "id": "f3307a9e",
   "metadata": {},
   "outputs": [],
   "source": [
    "# Columntransformer est utilisée ensuite pour traiter séparément chaque liste de variables"
   ]
  },
  {
   "cell_type": "code",
   "execution_count": 40,
   "id": "13a3eb25",
   "metadata": {},
   "outputs": [],
   "source": [
    "from sklearn.impute import SimpleImputer"
   ]
  },
  {
   "cell_type": "code",
   "execution_count": 42,
   "id": "4a576efc",
   "metadata": {},
   "outputs": [],
   "source": [
    "numerical_pipeline = make_pipeline(SimpleImputer(), StandardScaler())\n",
    "categorical_pipeline = make_pipeline(SimpleImputer(strategy = 'most_frequent'), OneHotEncoder())\n",
    "# SimpleImputer suprime ou remplace les valeurs manquantes"
   ]
  },
  {
   "cell_type": "code",
   "execution_count": 45,
   "id": "5c5b2122",
   "metadata": {},
   "outputs": [
    {
     "name": "stdout",
     "output_type": "stream",
     "text": [
      "ColumnTransformer(transformers=[('pipeline-1',\n",
      "                                 Pipeline(steps=[('simpleimputer',\n",
      "                                                  SimpleImputer()),\n",
      "                                                 ('standardscaler',\n",
      "                                                  StandardScaler())]),\n",
      "                                 ['pclass', 'age', 'fare']),\n",
      "                                ('pipeline-2',\n",
      "                                 Pipeline(steps=[('simpleimputer',\n",
      "                                                  SimpleImputer(strategy='most_frequent')),\n",
      "                                                 ('onehotencoder',\n",
      "                                                  OneHotEncoder())]),\n",
      "                                 ['sex', 'deck', 'alone'])])\n"
     ]
    }
   ],
   "source": [
    "# Rassemblage de ces deux pipelines\n",
    "preprocessor = make_column_transformer((numerical_pipeline, numerical_features), \n",
    "                        (categorical_pipeline, categorical_features))\n",
    "print(preprocessor)"
   ]
  },
  {
   "cell_type": "code",
   "execution_count": 46,
   "id": "13efb3aa",
   "metadata": {},
   "outputs": [
    {
     "data": {
      "text/plain": [
       "Pipeline(steps=[('columntransformer',\n",
       "                 ColumnTransformer(transformers=[('pipeline-1',\n",
       "                                                  Pipeline(steps=[('simpleimputer',\n",
       "                                                                   SimpleImputer()),\n",
       "                                                                  ('standardscaler',\n",
       "                                                                   StandardScaler())]),\n",
       "                                                  ['pclass', 'age', 'fare']),\n",
       "                                                 ('pipeline-2',\n",
       "                                                  Pipeline(steps=[('simpleimputer',\n",
       "                                                                   SimpleImputer(strategy='most_frequent')),\n",
       "                                                                  ('onehotencoder',\n",
       "                                                                   OneHotEncoder())]),\n",
       "                                                  ['sex', 'deck', 'alone'])])),\n",
       "                ('sgdclassifier', SGDClassifier())])"
      ]
     },
     "execution_count": 46,
     "metadata": {},
     "output_type": "execute_result"
    }
   ],
   "source": [
    "# pipeline final\n",
    "\n",
    "model = make_pipeline(preprocessor, SGDClassifier())\n",
    "model.fit(x, y)"
   ]
  },
  {
   "cell_type": "raw",
   "id": "1a904a26",
   "metadata": {},
   "source": [
    "La fonction make_column_selector permet de selection automatiquement des variables elon leur type"
   ]
  },
  {
   "cell_type": "code",
   "execution_count": 48,
   "id": "4448ad12",
   "metadata": {},
   "outputs": [],
   "source": [
    "from sklearn.compose import make_column_selector"
   ]
  },
  {
   "cell_type": "code",
   "execution_count": 49,
   "id": "7ccd39fe",
   "metadata": {},
   "outputs": [],
   "source": [
    "# Séparation de toutes les variables de titanic entre variables catégorielles et variables numériques\n",
    "numerical_features = make_column_selector(dtype_include=np.number)\n",
    "categorical_features = make_column_selector(dtype_exclude=np.number)"
   ]
  },
  {
   "cell_type": "code",
   "execution_count": 50,
   "id": "cf4a93c0",
   "metadata": {},
   "outputs": [],
   "source": [
    "numerical_pipeline = make_pipeline(SimpleImputer(), StandardScaler())\n",
    "categorical_pipeline = make_pipeline(SimpleImputer(strategy = 'most_frequent'), OneHotEncoder())"
   ]
  },
  {
   "cell_type": "code",
   "execution_count": 51,
   "id": "139fb914",
   "metadata": {},
   "outputs": [
    {
     "name": "stdout",
     "output_type": "stream",
     "text": [
      "ColumnTransformer(transformers=[('pipeline-1',\n",
      "                                 Pipeline(steps=[('simpleimputer',\n",
      "                                                  SimpleImputer()),\n",
      "                                                 ('standardscaler',\n",
      "                                                  StandardScaler())]),\n",
      "                                 <sklearn.compose._column_transformer.make_column_selector object at 0x00000117B08ACCD0>),\n",
      "                                ('pipeline-2',\n",
      "                                 Pipeline(steps=[('simpleimputer',\n",
      "                                                  SimpleImputer(strategy='most_frequent')),\n",
      "                                                 ('onehotencoder',\n",
      "                                                  OneHotEncoder())]),\n",
      "                                 <sklearn.compose._column_transformer.make_column_selector object at 0x00000117B092EDC0>)])\n"
     ]
    }
   ],
   "source": [
    "# Rassemblage de ces deux pipelines\n",
    "\n",
    "preprocessor = make_column_transformer((numerical_pipeline, numerical_features), \n",
    "                        (categorical_pipeline, categorical_features))\n",
    "print(preprocessor)"
   ]
  },
  {
   "cell_type": "code",
   "execution_count": 52,
   "id": "5f476315",
   "metadata": {},
   "outputs": [
    {
     "data": {
      "text/plain": [
       "Pipeline(steps=[('columntransformer',\n",
       "                 ColumnTransformer(transformers=[('pipeline-1',\n",
       "                                                  Pipeline(steps=[('simpleimputer',\n",
       "                                                                   SimpleImputer()),\n",
       "                                                                  ('standardscaler',\n",
       "                                                                   StandardScaler())]),\n",
       "                                                  <sklearn.compose._column_transformer.make_column_selector object at 0x00000117B08ACCD0>),\n",
       "                                                 ('pipeline-2',\n",
       "                                                  Pipeline(steps=[('simpleimputer',\n",
       "                                                                   SimpleImputer(strategy='most_frequent')),\n",
       "                                                                  ('onehotencoder',\n",
       "                                                                   OneHotEncoder())]),\n",
       "                                                  <sklearn.compose._column_transformer.make_column_selector object at 0x00000117B092EDC0>)])),\n",
       "                ('sgdclassifier', SGDClassifier())])"
      ]
     },
     "execution_count": 52,
     "metadata": {},
     "output_type": "execute_result"
    }
   ],
   "source": [
    "# pipeline final\n",
    "\n",
    "model = make_pipeline(preprocessor, SGDClassifier())\n",
    "model.fit(x, y)"
   ]
  },
  {
   "cell_type": "raw",
   "id": "99060ad0",
   "metadata": {},
   "source": [
    "Important : conda update --all , tappé dans anaconda prompt, cela permet de mettre à jour tous les modules"
   ]
  },
  {
   "cell_type": "markdown",
   "id": "c067e9d7",
   "metadata": {},
   "source": [
    "Pipelines parallèles"
   ]
  },
  {
   "cell_type": "raw",
   "id": "ddd56405",
   "metadata": {},
   "source": [
    "La fonction make_union() eprmet de créer des pipelines pallèles. Ces pipelines ne former en combinant bout à bout plusieurs transformers. Les résultats sont concaténés à la sortie du transformer."
   ]
  },
  {
   "cell_type": "code",
   "execution_count": 54,
   "id": "216766e9",
   "metadata": {},
   "outputs": [],
   "source": [
    "from sklearn.pipeline import make_union"
   ]
  },
  {
   "cell_type": "code",
   "execution_count": 65,
   "id": "89c35af8",
   "metadata": {},
   "outputs": [],
   "source": [
    "numeric_features = titanic[['age', 'fare']]\n",
    "numeric_features = numeric_features.dropna(axis = 0)"
   ]
  },
  {
   "cell_type": "code",
   "execution_count": 66,
   "id": "af417a8d",
   "metadata": {},
   "outputs": [],
   "source": [
    "pipeline = make_union(StandardScaler(), Binarizer())"
   ]
  },
  {
   "cell_type": "code",
   "execution_count": 67,
   "id": "574710f2",
   "metadata": {},
   "outputs": [
    {
     "data": {
      "text/plain": [
       "array([[-0.53037664, -0.51897787,  1.        ,  1.        ],\n",
       "       [ 0.57183099,  0.69189675,  1.        ,  1.        ],\n",
       "       [-0.25482473, -0.50621356,  1.        ,  1.        ],\n",
       "       ...,\n",
       "       [-0.73704057, -0.08877362,  1.        ,  1.        ],\n",
       "       [-0.25482473, -0.08877362,  1.        ,  1.        ],\n",
       "       [ 0.15850313, -0.50952283,  1.        ,  1.        ]])"
      ]
     },
     "execution_count": 67,
     "metadata": {},
     "output_type": "execute_result"
    }
   ],
   "source": [
    "pipeline.fit_transform(numeric_features)"
   ]
  },
  {
   "cell_type": "code",
   "execution_count": 68,
   "id": "04d7f14e",
   "metadata": {},
   "outputs": [
    {
     "data": {
      "text/plain": [
       "(714, 4)"
      ]
     },
     "execution_count": 68,
     "metadata": {},
     "output_type": "execute_result"
    }
   ],
   "source": [
    "pipeline.fit_transform(numeric_features).shape"
   ]
  },
  {
   "cell_type": "markdown",
   "id": "540d548b",
   "metadata": {},
   "source": [
    "### Les fonctions du module sklearn.impute"
   ]
  },
  {
   "cell_type": "raw",
   "id": "2c26324a",
   "metadata": {},
   "source": [
    "Impute est un module conçut pour permet de nettoyer les données de valeurs manquantes ou inadaptées\n",
    "Les fonctions ou transformers du module impute de shlearn sont :\n",
    "    SimpleImputer([missing_values, ...]) : remplace les valeurs manquantes par des valeurs statiques (mean, most_frequent, \n",
    "    median, constant) définis comme affection au paramètre strategy."
   ]
  },
  {
   "cell_type": "code",
   "execution_count": 70,
   "id": "37958ea1",
   "metadata": {},
   "outputs": [],
   "source": [
    "import pandas as pd"
   ]
  },
  {
   "cell_type": "markdown",
   "id": "ebbdc527",
   "metadata": {},
   "source": [
    "#### SimpleImputer"
   ]
  },
  {
   "cell_type": "code",
   "execution_count": 85,
   "id": "af1c52bc",
   "metadata": {},
   "outputs": [],
   "source": [
    "from sklearn.impute import SimpleImputer, KNNImputer, MissingIndicator"
   ]
  },
  {
   "cell_type": "code",
   "execution_count": 78,
   "id": "2ceecfdf",
   "metadata": {},
   "outputs": [
    {
     "data": {
      "text/plain": [
       "array([[nan,  5.],\n",
       "       [ 7., 25.],\n",
       "       [24., nan],\n",
       "       [50., nan]])"
      ]
     },
     "execution_count": 78,
     "metadata": {},
     "output_type": "execute_result"
    }
   ],
   "source": [
    "x_train = np.array([[np.nan, 5], [7, 25], [24, np.nan], [50, np.nan]])\n",
    "x_train"
   ]
  },
  {
   "cell_type": "code",
   "execution_count": 79,
   "id": "d49ff3b8",
   "metadata": {},
   "outputs": [
    {
     "data": {
      "text/plain": [
       "array([[27.,  5.],\n",
       "       [ 7., 25.],\n",
       "       [24., 15.],\n",
       "       [50., 15.]])"
      ]
     },
     "execution_count": 79,
     "metadata": {},
     "output_type": "execute_result"
    }
   ],
   "source": [
    "SImputer = SimpleImputer(missing_values=np.nan, strategy='mean')\n",
    "SImputer.fit_transform(x_train)"
   ]
  },
  {
   "cell_type": "code",
   "execution_count": 77,
   "id": "62b55ac4",
   "metadata": {},
   "outputs": [],
   "source": [
    "x_test = np.array([[4, 8], [np.nan, 6], [19, np.nan]])"
   ]
  },
  {
   "cell_type": "code",
   "execution_count": 80,
   "id": "19e54255",
   "metadata": {},
   "outputs": [
    {
     "data": {
      "text/plain": [
       "array([[ 4. ,  8. ],\n",
       "       [11.5,  6. ],\n",
       "       [19. ,  7. ]])"
      ]
     },
     "execution_count": 80,
     "metadata": {},
     "output_type": "execute_result"
    }
   ],
   "source": [
    "# Transformation du testset avec le transformer appliqué au train set\n",
    "SImputer.fit_transform(x_test)"
   ]
  },
  {
   "cell_type": "markdown",
   "id": "e183e535",
   "metadata": {},
   "source": [
    "#### KNNImputer"
   ]
  },
  {
   "cell_type": "raw",
   "id": "ae3d7faa",
   "metadata": {},
   "source": [
    "KNNImputer remplace les valeurs manquantes par les valeurs des plus proches voisins."
   ]
  },
  {
   "cell_type": "code",
   "execution_count": 82,
   "id": "9daadd84",
   "metadata": {},
   "outputs": [
    {
     "data": {
      "text/plain": [
       "array([[ 7.,  5.],\n",
       "       [ 7., 25.],\n",
       "       [24., 25.],\n",
       "       [50., 25.]])"
      ]
     },
     "execution_count": 82,
     "metadata": {},
     "output_type": "execute_result"
    }
   ],
   "source": [
    "KNN_imputer = KNNImputer(n_neighbors=1)\n",
    "KNN_imputer.fit_transform(x_train)"
   ]
  },
  {
   "cell_type": "code",
   "execution_count": 83,
   "id": "ae68ea51",
   "metadata": {},
   "outputs": [
    {
     "data": {
      "text/plain": [
       "array([[ 4.,  8.],\n",
       "       [ 4.,  6.],\n",
       "       [19.,  8.]])"
      ]
     },
     "execution_count": 83,
     "metadata": {},
     "output_type": "execute_result"
    }
   ],
   "source": [
    "KNN_imputer.fit_transform(x_test)"
   ]
  },
  {
   "cell_type": "markdown",
   "id": "6f6ee54c",
   "metadata": {},
   "source": [
    "#### MissingIndicator"
   ]
  },
  {
   "cell_type": "raw",
   "id": "ab526739",
   "metadata": {},
   "source": [
    "Il indique où se trouvent des valeurs manquantes"
   ]
  },
  {
   "cell_type": "code",
   "execution_count": 86,
   "id": "2531a72a",
   "metadata": {},
   "outputs": [
    {
     "data": {
      "text/plain": [
       "array([[ True, False],\n",
       "       [False, False],\n",
       "       [False,  True],\n",
       "       [False,  True]])"
      ]
     },
     "execution_count": 86,
     "metadata": {},
     "output_type": "execute_result"
    }
   ],
   "source": [
    "MImputer = MissingIndicator()\n",
    "MImputer.fit_transform(x_train)"
   ]
  },
  {
   "cell_type": "markdown",
   "id": "26a673bf",
   "metadata": {},
   "source": [
    "Application: Il est utilisé avec make_union + OneHotEncoder"
   ]
  },
  {
   "cell_type": "code",
   "execution_count": 87,
   "id": "fb48f3e3",
   "metadata": {},
   "outputs": [
    {
     "data": {
      "text/plain": [
       "array([[-99.,   5.,   1.,   0.],\n",
       "       [  7.,  25.,   0.,   0.],\n",
       "       [ 24., -99.,   0.,   1.],\n",
       "       [ 50., -99.,   0.,   1.]])"
      ]
     },
     "execution_count": 87,
     "metadata": {},
     "output_type": "execute_result"
    }
   ],
   "source": [
    "pipeline = make_union(SimpleImputer(strategy='constant', fill_value=-99),\n",
    "                     MissingIndicator())\n",
    "# Traitement des données avec cette pipeline\n",
    "pipeline.fit_transform(x_train)"
   ]
  },
  {
   "cell_type": "markdown",
   "id": "a70fb55e",
   "metadata": {},
   "source": [
    "#### Application sur les données du titanic"
   ]
  },
  {
   "cell_type": "code",
   "execution_count": 90,
   "id": "af0b9332",
   "metadata": {},
   "outputs": [],
   "source": [
    "x = titanic[['pclass', 'age']]\n",
    "y = titanic['survived']\n",
    "\n",
    "x_train, x_test, y_train, y_test = train_test_split(x, y, test_size=0.2)"
   ]
  },
  {
   "cell_type": "code",
   "execution_count": 91,
   "id": "cd29bdef",
   "metadata": {},
   "outputs": [],
   "source": [
    "model = make_pipeline(KNNImputer(), SGDClassifier())"
   ]
  },
  {
   "cell_type": "code",
   "execution_count": 92,
   "id": "ecbea244",
   "metadata": {},
   "outputs": [
    {
     "data": {
      "text/plain": [
       "Pipeline(steps=[('knnimputer', KNNImputer()),\n",
       "                ('sgdclassifier', SGDClassifier())])"
      ]
     },
     "execution_count": 92,
     "metadata": {},
     "output_type": "execute_result"
    }
   ],
   "source": [
    "model"
   ]
  },
  {
   "cell_type": "code",
   "execution_count": 93,
   "id": "53413eb8",
   "metadata": {},
   "outputs": [],
   "source": [
    "# Dictionnaire des paramètres\n",
    "params = {'knnimputer__n_neighbors': [1, 2, 3, 4] }"
   ]
  },
  {
   "cell_type": "code",
   "execution_count": 94,
   "id": "fad340d9",
   "metadata": {},
   "outputs": [],
   "source": [
    "grid = GridSearchCV(model, param_grid=params, cv = 5)"
   ]
  },
  {
   "cell_type": "code",
   "execution_count": 95,
   "id": "f632b933",
   "metadata": {},
   "outputs": [
    {
     "data": {
      "text/plain": [
       "GridSearchCV(cv=5,\n",
       "             estimator=Pipeline(steps=[('knnimputer', KNNImputer()),\n",
       "                                       ('sgdclassifier', SGDClassifier())]),\n",
       "             param_grid={'knnimputer__n_neighbors': [1, 2, 3, 4]})"
      ]
     },
     "execution_count": 95,
     "metadata": {},
     "output_type": "execute_result"
    }
   ],
   "source": [
    "grid.fit(x_train, y_train)"
   ]
  },
  {
   "cell_type": "code",
   "execution_count": 96,
   "id": "aab44248",
   "metadata": {},
   "outputs": [
    {
     "data": {
      "text/plain": [
       "{'knnimputer__n_neighbors': 4}"
      ]
     },
     "execution_count": 96,
     "metadata": {},
     "output_type": "execute_result"
    }
   ],
   "source": [
    "grid.best_params_"
   ]
  },
  {
   "cell_type": "code",
   "execution_count": 97,
   "id": "99642271",
   "metadata": {},
   "outputs": [
    {
     "data": {
      "text/plain": [
       "Pipeline(steps=[('knnimputer', KNNImputer(n_neighbors=4)),\n",
       "                ('sgdclassifier', SGDClassifier())])"
      ]
     },
     "execution_count": 97,
     "metadata": {},
     "output_type": "execute_result"
    }
   ],
   "source": [
    "grid.best_estimator_"
   ]
  },
  {
   "cell_type": "code",
   "execution_count": 98,
   "id": "fc4a0c23",
   "metadata": {},
   "outputs": [
    {
     "data": {
      "text/plain": [
       "0.686841327686398"
      ]
     },
     "execution_count": 98,
     "metadata": {},
     "output_type": "execute_result"
    }
   ],
   "source": [
    "grid.best_score_"
   ]
  },
  {
   "cell_type": "code",
   "execution_count": 99,
   "id": "acf38fcf",
   "metadata": {},
   "outputs": [
    {
     "data": {
      "text/plain": [
       "3"
      ]
     },
     "execution_count": 99,
     "metadata": {},
     "output_type": "execute_result"
    }
   ],
   "source": [
    "grid.best_index_"
   ]
  },
  {
   "cell_type": "markdown",
   "id": "75f3ffe7",
   "metadata": {},
   "source": [
    "### La sélection de variables (features selection) avec sklearn.feature_selection"
   ]
  },
  {
   "cell_type": "raw",
   "id": "dbd8f15d",
   "metadata": {},
   "source": [
    "Il s'agit de trouver les variables les plus utiles pour notre modèle de machine learning. On distingue :\n",
    "    Les sélecteurs basée sur la variance (transformers)\n",
    "    Les sélecteurs basés sur les tests statistiques (test de dépendance)\n",
    "    Les sélecteurs basés sur les estimateurs de coefficients"
   ]
  },
  {
   "cell_type": "markdown",
   "id": "eed92e29",
   "metadata": {},
   "source": [
    "#### VarianceThreshold"
   ]
  },
  {
   "cell_type": "raw",
   "id": "f8a0e89e",
   "metadata": {},
   "source": [
    "La VarianceThreshold calcule les variances de toutes les variables puis élimine celles dont les variances sont inférieures à un certain seuil. L'objectif est d'éliminer toutes les variables qui ne varient que très peu. "
   ]
  },
  {
   "cell_type": "code",
   "execution_count": 1,
   "id": "b5edd54c",
   "metadata": {},
   "outputs": [],
   "source": [
    "import numpy as np\n",
    "import seaborn as sns\n",
    "import matplotlib.pyplot as plt\n",
    "from sklearn.datasets import load_iris"
   ]
  },
  {
   "cell_type": "code",
   "execution_count": 2,
   "id": "ad277a7f",
   "metadata": {},
   "outputs": [
    {
     "data": {
      "text/plain": [
       "<matplotlib.legend.Legend at 0x26d9d192b20>"
      ]
     },
     "execution_count": 2,
     "metadata": {},
     "output_type": "execute_result"
    },
    {
     "data": {
      "image/png": "[encoded data removed]",
      "text/plain": [
       "<Figure size 640x480 with 1 Axes>"
      ]
     },
     "metadata": {},
     "output_type": "display_data"
    }
   ],
   "source": [
    "iris = load_iris()\n",
    "x = iris.data\n",
    "y = iris.target\n",
    "\n",
    "plt.plot(x)\n",
    "plt.legend(iris.feature_names)"
   ]
  },
  {
   "cell_type": "code",
   "execution_count": 3,
   "id": "3c5d5ccf",
   "metadata": {},
   "outputs": [],
   "source": [
    "from sklearn.feature_selection import VarianceThreshold"
   ]
  },
  {
   "cell_type": "code",
   "execution_count": 5,
   "id": "2485dc3d",
   "metadata": {},
   "outputs": [
    {
     "data": {
      "text/plain": [
       "array([0.68112222, 0.18871289, 3.09550267, 0.57713289])"
      ]
     },
     "execution_count": 5,
     "metadata": {},
     "output_type": "execute_result"
    }
   ],
   "source": [
    "x.var(axis = 0)"
   ]
  },
  {
   "cell_type": "code",
   "execution_count": 7,
   "id": "42f77524",
   "metadata": {},
   "outputs": [
    {
     "data": {
      "text/plain": [
       "array([[5.1, 1.4, 0.2],\n",
       "       [4.9, 1.4, 0.2],\n",
       "       [4.7, 1.3, 0.2],\n",
       "       [4.6, 1.5, 0.2],\n",
       "       [5. , 1.4, 0.2],\n",
       "       [5.4, 1.7, 0.4],\n",
       "       [4.6, 1.4, 0.3],\n",
       "       [5. , 1.5, 0.2],\n",
       "       [4.4, 1.4, 0.2],\n",
       "       [4.9, 1.5, 0.1],\n",
       "       [5.4, 1.5, 0.2],\n",
       "       [4.8, 1.6, 0.2],\n",
       "       [4.8, 1.4, 0.1],\n",
       "       [4.3, 1.1, 0.1],\n",
       "       [5.8, 1.2, 0.2],\n",
       "       [5.7, 1.5, 0.4],\n",
       "       [5.4, 1.3, 0.4],\n",
       "       [5.1, 1.4, 0.3],\n",
       "       [5.7, 1.7, 0.3],\n",
       "       [5.1, 1.5, 0.3],\n",
       "       [5.4, 1.7, 0.2],\n",
       "       [5.1, 1.5, 0.4],\n",
       "       [4.6, 1. , 0.2],\n",
       "       [5.1, 1.7, 0.5],\n",
       "       [4.8, 1.9, 0.2],\n",
       "       [5. , 1.6, 0.2],\n",
       "       [5. , 1.6, 0.4],\n",
       "       [5.2, 1.5, 0.2],\n",
       "       [5.2, 1.4, 0.2],\n",
       "       [4.7, 1.6, 0.2],\n",
       "       [4.8, 1.6, 0.2],\n",
       "       [5.4, 1.5, 0.4],\n",
       "       [5.2, 1.5, 0.1],\n",
       "       [5.5, 1.4, 0.2],\n",
       "       [4.9, 1.5, 0.2],\n",
       "       [5. , 1.2, 0.2],\n",
       "       [5.5, 1.3, 0.2],\n",
       "       [4.9, 1.4, 0.1],\n",
       "       [4.4, 1.3, 0.2],\n",
       "       [5.1, 1.5, 0.2],\n",
       "       [5. , 1.3, 0.3],\n",
       "       [4.5, 1.3, 0.3],\n",
       "       [4.4, 1.3, 0.2],\n",
       "       [5. , 1.6, 0.6],\n",
       "       [5.1, 1.9, 0.4],\n",
       "       [4.8, 1.4, 0.3],\n",
       "       [5.1, 1.6, 0.2],\n",
       "       [4.6, 1.4, 0.2],\n",
       "       [5.3, 1.5, 0.2],\n",
       "       [5. , 1.4, 0.2],\n",
       "       [7. , 4.7, 1.4],\n",
       "       [6.4, 4.5, 1.5],\n",
       "       [6.9, 4.9, 1.5],\n",
       "       [5.5, 4. , 1.3],\n",
       "       [6.5, 4.6, 1.5],\n",
       "       [5.7, 4.5, 1.3],\n",
       "       [6.3, 4.7, 1.6],\n",
       "       [4.9, 3.3, 1. ],\n",
       "       [6.6, 4.6, 1.3],\n",
       "       [5.2, 3.9, 1.4],\n",
       "       [5. , 3.5, 1. ],\n",
       "       [5.9, 4.2, 1.5],\n",
       "       [6. , 4. , 1. ],\n",
       "       [6.1, 4.7, 1.4],\n",
       "       [5.6, 3.6, 1.3],\n",
       "       [6.7, 4.4, 1.4],\n",
       "       [5.6, 4.5, 1.5],\n",
       "       [5.8, 4.1, 1. ],\n",
       "       [6.2, 4.5, 1.5],\n",
       "       [5.6, 3.9, 1.1],\n",
       "       [5.9, 4.8, 1.8],\n",
       "       [6.1, 4. , 1.3],\n",
       "       [6.3, 4.9, 1.5],\n",
       "       [6.1, 4.7, 1.2],\n",
       "       [6.4, 4.3, 1.3],\n",
       "       [6.6, 4.4, 1.4],\n",
       "       [6.8, 4.8, 1.4],\n",
       "       [6.7, 5. , 1.7],\n",
       "       [6. , 4.5, 1.5],\n",
       "       [5.7, 3.5, 1. ],\n",
       "       [5.5, 3.8, 1.1],\n",
       "       [5.5, 3.7, 1. ],\n",
       "       [5.8, 3.9, 1.2],\n",
       "       [6. , 5.1, 1.6],\n",
       "       [5.4, 4.5, 1.5],\n",
       "       [6. , 4.5, 1.6],\n",
       "       [6.7, 4.7, 1.5],\n",
       "       [6.3, 4.4, 1.3],\n",
       "       [5.6, 4.1, 1.3],\n",
       "       [5.5, 4. , 1.3],\n",
       "       [5.5, 4.4, 1.2],\n",
       "       [6.1, 4.6, 1.4],\n",
       "       [5.8, 4. , 1.2],\n",
       "       [5. , 3.3, 1. ],\n",
       "       [5.6, 4.2, 1.3],\n",
       "       [5.7, 4.2, 1.2],\n",
       "       [5.7, 4.2, 1.3],\n",
       "       [6.2, 4.3, 1.3],\n",
       "       [5.1, 3. , 1.1],\n",
       "       [5.7, 4.1, 1.3],\n",
       "       [6.3, 6. , 2.5],\n",
       "       [5.8, 5.1, 1.9],\n",
       "       [7.1, 5.9, 2.1],\n",
       "       [6.3, 5.6, 1.8],\n",
       "       [6.5, 5.8, 2.2],\n",
       "       [7.6, 6.6, 2.1],\n",
       "       [4.9, 4.5, 1.7],\n",
       "       [7.3, 6.3, 1.8],\n",
       "       [6.7, 5.8, 1.8],\n",
       "       [7.2, 6.1, 2.5],\n",
       "       [6.5, 5.1, 2. ],\n",
       "       [6.4, 5.3, 1.9],\n",
       "       [6.8, 5.5, 2.1],\n",
       "       [5.7, 5. , 2. ],\n",
       "       [5.8, 5.1, 2.4],\n",
       "       [6.4, 5.3, 2.3],\n",
       "       [6.5, 5.5, 1.8],\n",
       "       [7.7, 6.7, 2.2],\n",
       "       [7.7, 6.9, 2.3],\n",
       "       [6. , 5. , 1.5],\n",
       "       [6.9, 5.7, 2.3],\n",
       "       [5.6, 4.9, 2. ],\n",
       "       [7.7, 6.7, 2. ],\n",
       "       [6.3, 4.9, 1.8],\n",
       "       [6.7, 5.7, 2.1],\n",
       "       [7.2, 6. , 1.8],\n",
       "       [6.2, 4.8, 1.8],\n",
       "       [6.1, 4.9, 1.8],\n",
       "       [6.4, 5.6, 2.1],\n",
       "       [7.2, 5.8, 1.6],\n",
       "       [7.4, 6.1, 1.9],\n",
       "       [7.9, 6.4, 2. ],\n",
       "       [6.4, 5.6, 2.2],\n",
       "       [6.3, 5.1, 1.5],\n",
       "       [6.1, 5.6, 1.4],\n",
       "       [7.7, 6.1, 2.3],\n",
       "       [6.3, 5.6, 2.4],\n",
       "       [6.4, 5.5, 1.8],\n",
       "       [6. , 4.8, 1.8],\n",
       "       [6.9, 5.4, 2.1],\n",
       "       [6.7, 5.6, 2.4],\n",
       "       [6.9, 5.1, 2.3],\n",
       "       [5.8, 5.1, 1.9],\n",
       "       [6.8, 5.9, 2.3],\n",
       "       [6.7, 5.7, 2.5],\n",
       "       [6.7, 5.2, 2.3],\n",
       "       [6.3, 5. , 1.9],\n",
       "       [6.5, 5.2, 2. ],\n",
       "       [6.2, 5.4, 2.3],\n",
       "       [5.9, 5.1, 1.8]])"
      ]
     },
     "execution_count": 7,
     "metadata": {},
     "output_type": "execute_result"
    }
   ],
   "source": [
    "selectorVT = VarianceThreshold(threshold = 0.2)\n",
    "selectorVT.fit_transform(x) # La variables sepal width a été sélectionnée"
   ]
  },
  {
   "cell_type": "code",
   "execution_count": 8,
   "id": "6dfaac6d",
   "metadata": {},
   "outputs": [
    {
     "data": {
      "text/plain": [
       "array([ True, False,  True,  True])"
      ]
     },
     "execution_count": 8,
     "metadata": {},
     "output_type": "execute_result"
    }
   ],
   "source": [
    "# Les variables sélectionnées :\n",
    "selectorVT.get_support()"
   ]
  },
  {
   "cell_type": "code",
   "execution_count": 10,
   "id": "9b755e9a",
   "metadata": {},
   "outputs": [
    {
     "data": {
      "text/plain": [
       "['sepal length (cm)',\n",
       " 'sepal width (cm)',\n",
       " 'petal length (cm)',\n",
       " 'petal width (cm)']"
      ]
     },
     "execution_count": 10,
     "metadata": {},
     "output_type": "execute_result"
    }
   ],
   "source": [
    "iris.feature_names"
   ]
  },
  {
   "cell_type": "code",
   "execution_count": 12,
   "id": "a6bb9046",
   "metadata": {},
   "outputs": [
    {
     "data": {
      "text/plain": [
       "array(['sepal length (cm)', 'petal length (cm)', 'petal width (cm)'],\n",
       "      dtype='<U17')"
      ]
     },
     "execution_count": 12,
     "metadata": {},
     "output_type": "execute_result"
    }
   ],
   "source": [
    "# Boolean indexng pour retourner les variables sélectionnées\n",
    "\n",
    "np.array(iris.feature_names)[selectorVT.get_support()]"
   ]
  },
  {
   "cell_type": "markdown",
   "id": "4d5d54ed",
   "metadata": {},
   "source": [
    "#### sklearn.feature_selection.SelectKBest"
   ]
  },
  {
   "cell_type": "markdown",
   "id": "0e2b0c17",
   "metadata": {},
   "source": [
    "SelectKBest sélectionne les K variables dont les scores des tests de dépendance avec y sont les plus élevés"
   ]
  },
  {
   "cell_type": "code",
   "execution_count": 13,
   "id": "a2dc38ed",
   "metadata": {},
   "outputs": [],
   "source": [
    "from sklearn.feature_selection import SelectKBest, chi2"
   ]
  },
  {
   "cell_type": "code",
   "execution_count": 15,
   "id": "d43cb330",
   "metadata": {},
   "outputs": [],
   "source": [
    "# Test de dépendance ch2\n",
    "score_test_chi2, p_values = chi2(x, y)"
   ]
  },
  {
   "cell_type": "code",
   "execution_count": 16,
   "id": "ef744375",
   "metadata": {},
   "outputs": [
    {
     "name": "stdout",
     "output_type": "stream",
     "text": [
      "[ 10.81782088   3.7107283  116.31261309  67.0483602 ]\n"
     ]
    }
   ],
   "source": [
    "# Plus les scores du test de chi2 sont élevés, plus la dépendance entre les variables de x concernées et y est grande\n",
    "print(score_test_chi2)"
   ]
  },
  {
   "cell_type": "raw",
   "id": "03255c76",
   "metadata": {},
   "source": [
    "SelectKBest(test_de_dépendance, k)\n",
    "attributs :\n",
    "    scores_ : score du test de dépendance\n",
    "    pvalues : valeur-p du test\n",
    "méthodes :\n",
    "    get_supoort()"
   ]
  },
  {
   "cell_type": "code",
   "execution_count": 18,
   "id": "870eaf9f",
   "metadata": {},
   "outputs": [
    {
     "data": {
      "text/plain": [
       "array([[1.4, 0.2],\n",
       "       [1.4, 0.2],\n",
       "       [1.3, 0.2],\n",
       "       [1.5, 0.2],\n",
       "       [1.4, 0.2],\n",
       "       [1.7, 0.4],\n",
       "       [1.4, 0.3],\n",
       "       [1.5, 0.2],\n",
       "       [1.4, 0.2],\n",
       "       [1.5, 0.1],\n",
       "       [1.5, 0.2],\n",
       "       [1.6, 0.2],\n",
       "       [1.4, 0.1],\n",
       "       [1.1, 0.1],\n",
       "       [1.2, 0.2],\n",
       "       [1.5, 0.4],\n",
       "       [1.3, 0.4],\n",
       "       [1.4, 0.3],\n",
       "       [1.7, 0.3],\n",
       "       [1.5, 0.3],\n",
       "       [1.7, 0.2],\n",
       "       [1.5, 0.4],\n",
       "       [1. , 0.2],\n",
       "       [1.7, 0.5],\n",
       "       [1.9, 0.2],\n",
       "       [1.6, 0.2],\n",
       "       [1.6, 0.4],\n",
       "       [1.5, 0.2],\n",
       "       [1.4, 0.2],\n",
       "       [1.6, 0.2],\n",
       "       [1.6, 0.2],\n",
       "       [1.5, 0.4],\n",
       "       [1.5, 0.1],\n",
       "       [1.4, 0.2],\n",
       "       [1.5, 0.2],\n",
       "       [1.2, 0.2],\n",
       "       [1.3, 0.2],\n",
       "       [1.4, 0.1],\n",
       "       [1.3, 0.2],\n",
       "       [1.5, 0.2],\n",
       "       [1.3, 0.3],\n",
       "       [1.3, 0.3],\n",
       "       [1.3, 0.2],\n",
       "       [1.6, 0.6],\n",
       "       [1.9, 0.4],\n",
       "       [1.4, 0.3],\n",
       "       [1.6, 0.2],\n",
       "       [1.4, 0.2],\n",
       "       [1.5, 0.2],\n",
       "       [1.4, 0.2],\n",
       "       [4.7, 1.4],\n",
       "       [4.5, 1.5],\n",
       "       [4.9, 1.5],\n",
       "       [4. , 1.3],\n",
       "       [4.6, 1.5],\n",
       "       [4.5, 1.3],\n",
       "       [4.7, 1.6],\n",
       "       [3.3, 1. ],\n",
       "       [4.6, 1.3],\n",
       "       [3.9, 1.4],\n",
       "       [3.5, 1. ],\n",
       "       [4.2, 1.5],\n",
       "       [4. , 1. ],\n",
       "       [4.7, 1.4],\n",
       "       [3.6, 1.3],\n",
       "       [4.4, 1.4],\n",
       "       [4.5, 1.5],\n",
       "       [4.1, 1. ],\n",
       "       [4.5, 1.5],\n",
       "       [3.9, 1.1],\n",
       "       [4.8, 1.8],\n",
       "       [4. , 1.3],\n",
       "       [4.9, 1.5],\n",
       "       [4.7, 1.2],\n",
       "       [4.3, 1.3],\n",
       "       [4.4, 1.4],\n",
       "       [4.8, 1.4],\n",
       "       [5. , 1.7],\n",
       "       [4.5, 1.5],\n",
       "       [3.5, 1. ],\n",
       "       [3.8, 1.1],\n",
       "       [3.7, 1. ],\n",
       "       [3.9, 1.2],\n",
       "       [5.1, 1.6],\n",
       "       [4.5, 1.5],\n",
       "       [4.5, 1.6],\n",
       "       [4.7, 1.5],\n",
       "       [4.4, 1.3],\n",
       "       [4.1, 1.3],\n",
       "       [4. , 1.3],\n",
       "       [4.4, 1.2],\n",
       "       [4.6, 1.4],\n",
       "       [4. , 1.2],\n",
       "       [3.3, 1. ],\n",
       "       [4.2, 1.3],\n",
       "       [4.2, 1.2],\n",
       "       [4.2, 1.3],\n",
       "       [4.3, 1.3],\n",
       "       [3. , 1.1],\n",
       "       [4.1, 1.3],\n",
       "       [6. , 2.5],\n",
       "       [5.1, 1.9],\n",
       "       [5.9, 2.1],\n",
       "       [5.6, 1.8],\n",
       "       [5.8, 2.2],\n",
       "       [6.6, 2.1],\n",
       "       [4.5, 1.7],\n",
       "       [6.3, 1.8],\n",
       "       [5.8, 1.8],\n",
       "       [6.1, 2.5],\n",
       "       [5.1, 2. ],\n",
       "       [5.3, 1.9],\n",
       "       [5.5, 2.1],\n",
       "       [5. , 2. ],\n",
       "       [5.1, 2.4],\n",
       "       [5.3, 2.3],\n",
       "       [5.5, 1.8],\n",
       "       [6.7, 2.2],\n",
       "       [6.9, 2.3],\n",
       "       [5. , 1.5],\n",
       "       [5.7, 2.3],\n",
       "       [4.9, 2. ],\n",
       "       [6.7, 2. ],\n",
       "       [4.9, 1.8],\n",
       "       [5.7, 2.1],\n",
       "       [6. , 1.8],\n",
       "       [4.8, 1.8],\n",
       "       [4.9, 1.8],\n",
       "       [5.6, 2.1],\n",
       "       [5.8, 1.6],\n",
       "       [6.1, 1.9],\n",
       "       [6.4, 2. ],\n",
       "       [5.6, 2.2],\n",
       "       [5.1, 1.5],\n",
       "       [5.6, 1.4],\n",
       "       [6.1, 2.3],\n",
       "       [5.6, 2.4],\n",
       "       [5.5, 1.8],\n",
       "       [4.8, 1.8],\n",
       "       [5.4, 2.1],\n",
       "       [5.6, 2.4],\n",
       "       [5.1, 2.3],\n",
       "       [5.1, 1.9],\n",
       "       [5.9, 2.3],\n",
       "       [5.7, 2.5],\n",
       "       [5.2, 2.3],\n",
       "       [5. , 1.9],\n",
       "       [5.2, 2. ],\n",
       "       [5.4, 2.3],\n",
       "       [5.1, 1.8]])"
      ]
     },
     "execution_count": 18,
     "metadata": {},
     "output_type": "execute_result"
    }
   ],
   "source": [
    "selectorKB = SelectKBest(chi2, k=2)\n",
    "selectorKB.fit_transform(x, y)"
   ]
  },
  {
   "cell_type": "code",
   "execution_count": 19,
   "id": "bfaebd69",
   "metadata": {},
   "outputs": [
    {
     "data": {
      "text/plain": [
       "array([False, False,  True,  True])"
      ]
     },
     "execution_count": 19,
     "metadata": {},
     "output_type": "execute_result"
    }
   ],
   "source": [
    "selectorKB.get_support()"
   ]
  },
  {
   "cell_type": "code",
   "execution_count": 21,
   "id": "81a9b878",
   "metadata": {},
   "outputs": [
    {
     "data": {
      "text/plain": [
       "array(['petal length (cm)', 'petal width (cm)'], dtype='<U17')"
      ]
     },
     "execution_count": 21,
     "metadata": {},
     "output_type": "execute_result"
    }
   ],
   "source": [
    "np.array(iris.feature_names)[selectorKB.get_support()]"
   ]
  },
  {
   "cell_type": "markdown",
   "id": "d1f65314",
   "metadata": {},
   "source": [
    "#### SelectFromModel du module sklearn.feautre_selection"
   ]
  },
  {
   "cell_type": "raw",
   "id": "acfd327d",
   "metadata": {},
   "source": [
    "Cette fonction permet de pré-entrainer le modèle pour déterminer les estimateurs, puis évaluer les coefficients en vue de trouver les variables plus importantes du modèle. Elle est compatible avec les estimateurs qui développent une fonction paramètrée (attribut.coef ou .feature_importance).\n",
    "K6Nearest Neighbour incompatible."
   ]
  },
  {
   "cell_type": "code",
   "execution_count": 22,
   "id": "5ba68fd1",
   "metadata": {},
   "outputs": [],
   "source": [
    "from sklearn.feature_selection import SelectFromModel\n",
    "from sklearn.linear_model import SGDClassifier"
   ]
  },
  {
   "cell_type": "code",
   "execution_count": 24,
   "id": "79afe9ad",
   "metadata": {},
   "outputs": [
    {
     "data": {
      "text/plain": [
       "array([[1.4, 0.2],\n",
       "       [1.4, 0.2],\n",
       "       [1.3, 0.2],\n",
       "       [1.5, 0.2],\n",
       "       [1.4, 0.2],\n",
       "       [1.7, 0.4],\n",
       "       [1.4, 0.3],\n",
       "       [1.5, 0.2],\n",
       "       [1.4, 0.2],\n",
       "       [1.5, 0.1],\n",
       "       [1.5, 0.2],\n",
       "       [1.6, 0.2],\n",
       "       [1.4, 0.1],\n",
       "       [1.1, 0.1],\n",
       "       [1.2, 0.2],\n",
       "       [1.5, 0.4],\n",
       "       [1.3, 0.4],\n",
       "       [1.4, 0.3],\n",
       "       [1.7, 0.3],\n",
       "       [1.5, 0.3],\n",
       "       [1.7, 0.2],\n",
       "       [1.5, 0.4],\n",
       "       [1. , 0.2],\n",
       "       [1.7, 0.5],\n",
       "       [1.9, 0.2],\n",
       "       [1.6, 0.2],\n",
       "       [1.6, 0.4],\n",
       "       [1.5, 0.2],\n",
       "       [1.4, 0.2],\n",
       "       [1.6, 0.2],\n",
       "       [1.6, 0.2],\n",
       "       [1.5, 0.4],\n",
       "       [1.5, 0.1],\n",
       "       [1.4, 0.2],\n",
       "       [1.5, 0.2],\n",
       "       [1.2, 0.2],\n",
       "       [1.3, 0.2],\n",
       "       [1.4, 0.1],\n",
       "       [1.3, 0.2],\n",
       "       [1.5, 0.2],\n",
       "       [1.3, 0.3],\n",
       "       [1.3, 0.3],\n",
       "       [1.3, 0.2],\n",
       "       [1.6, 0.6],\n",
       "       [1.9, 0.4],\n",
       "       [1.4, 0.3],\n",
       "       [1.6, 0.2],\n",
       "       [1.4, 0.2],\n",
       "       [1.5, 0.2],\n",
       "       [1.4, 0.2],\n",
       "       [4.7, 1.4],\n",
       "       [4.5, 1.5],\n",
       "       [4.9, 1.5],\n",
       "       [4. , 1.3],\n",
       "       [4.6, 1.5],\n",
       "       [4.5, 1.3],\n",
       "       [4.7, 1.6],\n",
       "       [3.3, 1. ],\n",
       "       [4.6, 1.3],\n",
       "       [3.9, 1.4],\n",
       "       [3.5, 1. ],\n",
       "       [4.2, 1.5],\n",
       "       [4. , 1. ],\n",
       "       [4.7, 1.4],\n",
       "       [3.6, 1.3],\n",
       "       [4.4, 1.4],\n",
       "       [4.5, 1.5],\n",
       "       [4.1, 1. ],\n",
       "       [4.5, 1.5],\n",
       "       [3.9, 1.1],\n",
       "       [4.8, 1.8],\n",
       "       [4. , 1.3],\n",
       "       [4.9, 1.5],\n",
       "       [4.7, 1.2],\n",
       "       [4.3, 1.3],\n",
       "       [4.4, 1.4],\n",
       "       [4.8, 1.4],\n",
       "       [5. , 1.7],\n",
       "       [4.5, 1.5],\n",
       "       [3.5, 1. ],\n",
       "       [3.8, 1.1],\n",
       "       [3.7, 1. ],\n",
       "       [3.9, 1.2],\n",
       "       [5.1, 1.6],\n",
       "       [4.5, 1.5],\n",
       "       [4.5, 1.6],\n",
       "       [4.7, 1.5],\n",
       "       [4.4, 1.3],\n",
       "       [4.1, 1.3],\n",
       "       [4. , 1.3],\n",
       "       [4.4, 1.2],\n",
       "       [4.6, 1.4],\n",
       "       [4. , 1.2],\n",
       "       [3.3, 1. ],\n",
       "       [4.2, 1.3],\n",
       "       [4.2, 1.2],\n",
       "       [4.2, 1.3],\n",
       "       [4.3, 1.3],\n",
       "       [3. , 1.1],\n",
       "       [4.1, 1.3],\n",
       "       [6. , 2.5],\n",
       "       [5.1, 1.9],\n",
       "       [5.9, 2.1],\n",
       "       [5.6, 1.8],\n",
       "       [5.8, 2.2],\n",
       "       [6.6, 2.1],\n",
       "       [4.5, 1.7],\n",
       "       [6.3, 1.8],\n",
       "       [5.8, 1.8],\n",
       "       [6.1, 2.5],\n",
       "       [5.1, 2. ],\n",
       "       [5.3, 1.9],\n",
       "       [5.5, 2.1],\n",
       "       [5. , 2. ],\n",
       "       [5.1, 2.4],\n",
       "       [5.3, 2.3],\n",
       "       [5.5, 1.8],\n",
       "       [6.7, 2.2],\n",
       "       [6.9, 2.3],\n",
       "       [5. , 1.5],\n",
       "       [5.7, 2.3],\n",
       "       [4.9, 2. ],\n",
       "       [6.7, 2. ],\n",
       "       [4.9, 1.8],\n",
       "       [5.7, 2.1],\n",
       "       [6. , 1.8],\n",
       "       [4.8, 1.8],\n",
       "       [4.9, 1.8],\n",
       "       [5.6, 2.1],\n",
       "       [5.8, 1.6],\n",
       "       [6.1, 1.9],\n",
       "       [6.4, 2. ],\n",
       "       [5.6, 2.2],\n",
       "       [5.1, 1.5],\n",
       "       [5.6, 1.4],\n",
       "       [6.1, 2.3],\n",
       "       [5.6, 2.4],\n",
       "       [5.5, 1.8],\n",
       "       [4.8, 1.8],\n",
       "       [5.4, 2.1],\n",
       "       [5.6, 2.4],\n",
       "       [5.1, 2.3],\n",
       "       [5.1, 1.9],\n",
       "       [5.9, 2.3],\n",
       "       [5.7, 2.5],\n",
       "       [5.2, 2.3],\n",
       "       [5. , 1.9],\n",
       "       [5.2, 2. ],\n",
       "       [5.4, 2.3],\n",
       "       [5.1, 1.8]])"
      ]
     },
     "execution_count": 24,
     "metadata": {},
     "output_type": "execute_result"
    }
   ],
   "source": [
    "selectorSFM = SelectFromModel(SGDClassifier(random_state=0), threshold = 'mean')\n",
    "selectorSFM.fit_transform(x, y)"
   ]
  },
  {
   "cell_type": "code",
   "execution_count": 25,
   "id": "fa1dc8d9",
   "metadata": {},
   "outputs": [
    {
     "data": {
      "text/plain": [
       "array(['petal length (cm)', 'petal width (cm)'], dtype='<U17')"
      ]
     },
     "execution_count": 25,
     "metadata": {},
     "output_type": "execute_result"
    }
   ],
   "source": [
    "np.array(iris.feature_names)[selectorSFM.get_support()]"
   ]
  },
  {
   "cell_type": "code",
   "execution_count": 26,
   "id": "919a8ceb",
   "metadata": {},
   "outputs": [
    {
     "data": {
      "text/plain": [
       "SGDClassifier(random_state=0)"
      ]
     },
     "execution_count": 26,
     "metadata": {},
     "output_type": "execute_result"
    }
   ],
   "source": [
    "selectorSFM.estimator_"
   ]
  },
  {
   "cell_type": "code",
   "execution_count": 28,
   "id": "e751a992",
   "metadata": {},
   "outputs": [
    {
     "data": {
      "text/plain": [
       "array([[  8.64029104,  27.2851296 , -40.01819009, -17.73533424],\n",
       "       [ -5.48888269, -58.79616709,  22.88584985, -54.14457159],\n",
       "       [-81.28026953, -75.17372078, 130.76437145, 131.39608339]])"
      ]
     },
     "execution_count": 28,
     "metadata": {},
     "output_type": "execute_result"
    }
   ],
   "source": [
    "selectorSFM.estimator_.coef_\n",
    "# Les lignes désignent les coefficients pour chaque classe de y et les colonnes désignent les coefs pour chaque variable."
   ]
  },
  {
   "cell_type": "code",
   "execution_count": 29,
   "id": "3f78487e",
   "metadata": {},
   "outputs": [
    {
     "data": {
      "text/plain": [
       "array([-26.04295373, -35.56158609,  37.87734374,  19.83872585])"
      ]
     },
     "execution_count": 29,
     "metadata": {},
     "output_type": "execute_result"
    }
   ],
   "source": [
    "selectorSFM.estimator_.coef_.mean(axis = 0)"
   ]
  },
  {
   "cell_type": "code",
   "execution_count": 30,
   "id": "082fbf80",
   "metadata": {},
   "outputs": [
    {
     "data": {
      "text/plain": [
       "-0.9721175565229512"
      ]
     },
     "execution_count": 30,
     "metadata": {},
     "output_type": "execute_result"
    }
   ],
   "source": [
    "selectorSFM.estimator_.coef_.mean(axis = 0).mean()"
   ]
  },
  {
   "cell_type": "markdown",
   "id": "1e68a3de",
   "metadata": {},
   "source": [
    "#### RFE + RFECV de sklearn.feature_selection"
   ]
  },
  {
   "cell_type": "markdown",
   "id": "741ee1ff",
   "metadata": {},
   "source": [
    "Ce sont des sélecteurs récursifs"
   ]
  },
  {
   "cell_type": "raw",
   "id": "bfec9bc8",
   "metadata": {},
   "source": [
    "RFE : Recursive Feature Elimination\n",
    "RFECV : Recursive Feature Elimination with Cross-Validation\n",
    "\n",
    "Ces sélecteurs éliminent les variables les moins importantes de façon récursive"
   ]
  },
  {
   "cell_type": "code",
   "execution_count": 31,
   "id": "bc55c0f8",
   "metadata": {},
   "outputs": [],
   "source": [
    "from sklearn.feature_selection import RFE, RFECV"
   ]
  },
  {
   "cell_type": "code",
   "execution_count": 32,
   "id": "ed219389",
   "metadata": {},
   "outputs": [],
   "source": [
    "selectorRFECV = RFECV(SGDClassifier(), step=1, min_features_to_select=2, cv = 5)\n",
    "# step désigne le nombre de varaible à éliminer à chaque itération\n",
    "# min_features_to_select désigne le nombre minimal de variable que l'on désire conserver"
   ]
  },
  {
   "cell_type": "code",
   "execution_count": 33,
   "id": "5b07f0f2",
   "metadata": {},
   "outputs": [
    {
     "data": {
      "text/plain": [
       "RFECV(cv=5, estimator=SGDClassifier(), min_features_to_select=2)"
      ]
     },
     "execution_count": 33,
     "metadata": {},
     "output_type": "execute_result"
    }
   ],
   "source": [
    "selectorRFECV.fit(x, y)"
   ]
  },
  {
   "cell_type": "code",
   "execution_count": 34,
   "id": "9a678311",
   "metadata": {},
   "outputs": [
    {
     "data": {
      "text/plain": [
       "array([2, 1, 1, 1])"
      ]
     },
     "execution_count": 34,
     "metadata": {},
     "output_type": "execute_result"
    }
   ],
   "source": [
    "# Rang des variables selon leur importance\n",
    "selectorRFECV.ranking_"
   ]
  },
  {
   "cell_type": "code",
   "execution_count": 35,
   "id": "c95ed3a6",
   "metadata": {},
   "outputs": [
    {
     "name": "stderr",
     "output_type": "stream",
     "text": [
      "C:\\Users\\asus\\anaconda3\\lib\\site-packages\\sklearn\\utils\\deprecation.py:103: FutureWarning: The `grid_scores_` attribute is deprecated in version 1.0 in favor of `cv_results_` and will be removed in version 1.2.\n",
      "  warnings.warn(msg, category=FutureWarning)\n"
     ]
    },
    {
     "data": {
      "text/plain": [
       "array([[0.5       , 0.96666667, 0.7       , 0.93333333, 0.73333333],\n",
       "       [1.        , 0.8       , 0.9       , 0.8       , 0.93333333],\n",
       "       [0.8       , 1.        , 0.86666667, 0.7       , 0.9       ]])"
      ]
     },
     "execution_count": 35,
     "metadata": {},
     "output_type": "execute_result"
    }
   ],
   "source": [
    "# Score par itération\n",
    "selectorRFECV.grid_scores_"
   ]
  },
  {
   "cell_type": "code",
   "execution_count": null,
   "id": "591c5aa5",
   "metadata": {},
   "outputs": [],
   "source": []
  }
 ],
 "metadata": {
  "kernelspec": {
   "display_name": "Python 3 (ipykernel)",
   "language": "python",
   "name": "python3"
  },
  "language_info": {
   "codemirror_mode": {
    "name": "ipython",
    "version": 3
   },
   "file_extension": ".py",
   "mimetype": "text/x-python",
   "name": "python",
   "nbconvert_exporter": "python",
   "pygments_lexer": "ipython3",
   "version": "3.9.13"
  }
 },
 "nbformat": 4,
 "nbformat_minor": 5
}
